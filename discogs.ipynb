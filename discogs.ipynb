{
 "cells": [
  {
   "cell_type": "markdown",
   "metadata": {},
   "source": [
    "Discogs Code \n",
    "------------"
   ]
  },
  {
   "cell_type": "markdown",
   "metadata": {},
   "source": [
    "Code sequence for grabbing all releases from a given collection and storing them as `XML`."
   ]
  },
  {
   "cell_type": "code",
   "execution_count": 1,
   "metadata": {
    "collapsed": true
   },
   "outputs": [
    {
     "name": "stdout",
     "output_type": "stream",
     "text": [
      "======Getting Collection======\n",
      "=============101============== Releases\n",
      "Wrote file at msulibraries/3013180.xml\n",
      "Wrote file at msulibraries/4549372.xml\n",
      "Wrote file at msulibraries/3718352.xml\n",
      "Wrote file at msulibraries/7106788.xml\n",
      "Wrote file at msulibraries/2268576.xml\n",
      "Wrote file at msulibraries/1347729.xml\n",
      "Wrote file at msulibraries/6596534.xml\n",
      "Wrote file at msulibraries/3307104.xml\n",
      "Wrote file at msulibraries/5794868.xml\n",
      "Wrote file at msulibraries/5131292.xml\n",
      "Wrote file at msulibraries/2900857.xml\n",
      "Wrote file at msulibraries/2458402.xml\n",
      "Wrote file at msulibraries/3136317.xml\n",
      "Wrote file at msulibraries/6654225.xml\n",
      "Wrote file at msulibraries/4515652.xml\n",
      "Wrote file at msulibraries/2563401.xml\n",
      "Wrote file at msulibraries/4703767.xml\n",
      "Wrote file at msulibraries/2574218.xml\n",
      "Wrote file at msulibraries/4904544.xml\n",
      "Wrote file at msulibraries/4477854.xml\n",
      "Wrote file at msulibraries/3746985.xml\n",
      "Wrote file at msulibraries/2355697.xml\n",
      "Wrote file at msulibraries/2394830.xml\n",
      "Wrote file at msulibraries/4971968.xml\n",
      "Wrote file at msulibraries/2423870.xml\n",
      "Wrote file at msulibraries/6217203.xml\n",
      "Wrote file at msulibraries/570022.xml\n",
      "Wrote file at msulibraries/5563364.xml\n",
      "Wrote file at msulibraries/3255903.xml\n",
      "Wrote file at msulibraries/4531358.xml\n",
      "Wrote file at msulibraries/3975070.xml\n",
      "Wrote file at msulibraries/3501270.xml\n",
      "Wrote file at msulibraries/6030857.xml\n",
      "Wrote file at msulibraries/4198787.xml\n",
      "Wrote file at msulibraries/2504325.xml\n",
      "Wrote file at msulibraries/4252632.xml\n",
      "Wrote file at msulibraries/3800082.xml\n",
      "Wrote file at msulibraries/3163601.xml\n",
      "Wrote file at msulibraries/3082269.xml\n",
      "Wrote file at msulibraries/1663345.xml\n",
      "Wrote file at msulibraries/5318041.xml\n",
      "Wrote file at msulibraries/1347772.xml\n",
      "Wrote file at msulibraries/5448964.xml\n",
      "Wrote file at msulibraries/3036926.xml\n",
      "Wrote file at msulibraries/4304467.xml\n",
      "Wrote file at msulibraries/1445452.xml\n",
      "Wrote file at msulibraries/2122226.xml\n",
      "Wrote file at msulibraries/5420317.xml\n",
      "Wrote file at msulibraries/5881911.xml\n",
      "Wrote file at msulibraries/3061403.xml\n",
      "Wrote file at msulibraries/5721827.xml\n",
      "Wrote file at msulibraries/3588906.xml\n",
      "Wrote file at msulibraries/6506874.xml\n",
      "Wrote file at msulibraries/3064211.xml\n",
      "Wrote file at msulibraries/2482915.xml\n",
      "Wrote file at msulibraries/4295830.xml\n",
      "Wrote file at msulibraries/6152991.xml\n",
      "Wrote file at msulibraries/1097955.xml\n",
      "Wrote file at msulibraries/5420953.xml\n",
      "Wrote file at msulibraries/3401007.xml\n",
      "Wrote file at msulibraries/6973890.xml\n",
      "Wrote file at msulibraries/5377326.xml\n",
      "Wrote file at msulibraries/2715745.xml\n",
      "Wrote file at msulibraries/3712189.xml\n",
      "Wrote file at msulibraries/4296176.xml\n",
      "Wrote file at msulibraries/5099211.xml\n",
      "Wrote file at msulibraries/3814646.xml\n",
      "Wrote file at msulibraries/4122987.xml\n",
      "Wrote file at msulibraries/3743487.xml\n",
      "Wrote file at msulibraries/2030101.xml\n",
      "Wrote file at msulibraries/2030101.xml\n",
      "Wrote file at msulibraries/7047207.xml\n",
      "Wrote file at msulibraries/3487748.xml\n",
      "Wrote file at msulibraries/5780712.xml\n",
      "Wrote file at msulibraries/2701132.xml\n",
      "Wrote file at msulibraries/6267877.xml\n",
      "Wrote file at msulibraries/3908971.xml\n",
      "Wrote file at msulibraries/3908971.xml\n",
      "Wrote file at msulibraries/3199064.xml\n",
      "Wrote file at msulibraries/2643726.xml\n",
      "Wrote file at msulibraries/6924382.xml\n",
      "Wrote file at msulibraries/3235735.xml\n",
      "Wrote file at msulibraries/5446099.xml\n",
      "Wrote file at msulibraries/2050317.xml\n",
      "Wrote file at msulibraries/5372282.xml\n",
      "Wrote file at msulibraries/4756045.xml\n",
      "Wrote file at msulibraries/2516364.xml\n",
      "Wrote file at msulibraries/7106809.xml\n",
      "Wrote file at msulibraries/2238635.xml\n",
      "Wrote file at msulibraries/2974387.xml\n",
      "Wrote file at msulibraries/1543549.xml\n",
      "Wrote file at msulibraries/600547.xml\n",
      "Wrote file at msulibraries/600547.xml\n",
      "Wrote file at msulibraries/3454583.xml\n",
      "Wrote file at msulibraries/3345244.xml\n",
      "Wrote file at msulibraries/1235217.xml\n",
      "Wrote file at msulibraries/2502615.xml\n",
      "Wrote file at msulibraries/3101278.xml\n",
      "Wrote file at msulibraries/1359906.xml\n",
      "Wrote file at msulibraries/4612351.xml\n",
      "Wrote file at msulibraries/2030482.xml\n"
     ]
    }
   ],
   "source": [
    "from discogs import DiscogsData\n",
    "dd = DiscogsData()\n",
    "dd.ReturnXmlReleases(username=\"MSULibraries\", folder_id=\"0\", output_path=\"msulibraries/\")"
   ]
  },
  {
   "cell_type": "markdown",
   "metadata": {},
   "source": [
    "Code sequence to grab style data from all releases from a certain user (\"MSULibraries\") and store the result as a gephi-ready `XML` file."
   ]
  },
  {
   "cell_type": "code",
   "execution_count": 2,
   "metadata": {
    "collapsed": true
   },
   "outputs": [
    {
     "name": "stdout",
     "output_type": "stream",
     "text": [
      "======Getting Collection======\n",
      "=============101============== Releases\n",
      "GEXF Written to output/msul.gexf\n"
     ]
    }
   ],
   "source": [
    "from discogs import DiscogsData\n",
    "dd = DiscogsData()\n",
    "data = dd.CollectionStyleGraph(username=\"MSULibraries\", folder_id=\"0\")\n",
    "dd.GraphOutput(\"gephi\", output_path=\"output/msul\")"
   ]
  },
  {
   "cell_type": "code",
   "execution_count": 8,
   "metadata": {
    "collapsed": false
   },
   "outputs": [
    {
     "name": "stdout",
     "output_type": "stream",
     "text": [
      "Cat Stevens -- Teaser And The Firecat\n",
      "Beatles, The -- Revolver\n",
      "Simon & Garfunkel -- Parsley, Sage, Rosemary And Thyme\n",
      "Byrds, The -- Sweetheart Of The Rodeo\n",
      "Simon & Garfunkel -- Bridge Over Troubled Water\n",
      "Moody Blues, The -- In Search Of The Lost Chord\n",
      "Sly & The Family Stone -- Stand!\n",
      "Michael Jackson -- Thriller\n",
      "Creedence Clearwater Revival -- Bayou Country\n",
      "Creedence Clearwater Revival -- Cosmo's Factory\n",
      "Bob Marley & The Wailers -- Exodus\n",
      "Dave Dudley -- Rural Route #1\n",
      "Kris Kristofferson -- Me And Bobby McGee\n",
      "M83 -- Dead Cities, Red Seas & Lost Ghosts\n",
      "Waylon Jennings -- Nashville Rebel\n"
     ]
    }
   ],
   "source": [
    "from discogs import DiscogsData\n",
    "dd = DiscogsData()\n",
    "dd.compare_users([\"bartonjp\", \"aaroncollie\"])"
   ]
  },
  {
   "cell_type": "code",
   "execution_count": 2,
   "metadata": {
    "collapsed": false
   },
   "outputs": [
    {
     "data": {
      "text/plain": [
       "True"
      ]
     },
     "execution_count": 2,
     "metadata": {},
     "output_type": "execute_result"
    }
   ],
   "source": [
    "8883 in set([8883])"
   ]
  },
  {
   "cell_type": "code",
   "execution_count": 3,
   "metadata": {
    "collapsed": true
   },
   "outputs": [],
   "source": [
    "test_release = \"\"\"{\"status\": \"Accepted\", \"styles\": [\"Acoustic\", \"Folk\"], \"videos\": [{\"duration\": 123, \"description\": \"Judee Sill -  Abracadabra\", \"embed\": true, \"uri\": \"http://www.youtube.com/watch?v=6843UjxBHJ8\", \"title\": \"Judee Sill -  Abracadabra\"}, {\"duration\": 196, \"description\": \"Judee Sill - Lady-O\", \"embed\": true, \"uri\": \"http://www.youtube.com/watch?v=PP8DjFhxy60\", \"title\": \"Judee Sill - Lady-O\"}, {\"duration\": 209, \"description\": \"Judee Sill - My Man On Love\", \"embed\": true, \"uri\": \"http://www.youtube.com/watch?v=2nKmhrc49Ek\", \"title\": \"Judee Sill - My Man On Love\"}, {\"duration\": 191, \"description\": \"Judee Sill - The Lamb Ran Away with the Crown\", \"embed\": true, \"uri\": \"http://www.youtube.com/watch?v=8zp6qwM_mrI\", \"title\": \"Judee Sill - The Lamb Ran Away with the Crown\"}, {\"duration\": 289, \"description\": \"Judee Sill - Ridge Rider\", \"embed\": true, \"uri\": \"http://www.youtube.com/watch?v=T1DounBP97Q\", \"title\": \"Judee Sill - Ridge Rider\"}], \"series\": [], \"released_formatted\": \"2004\", \"labels\": [{\"id\": 36605, \"resource_url\": \"http://api.discogs.com/labels/36605\", \"catno\": \"4M 120\", \"name\": \"4 Men With Beards\", \"entity_type\": \"1\"}], \"estimated_weight\": 230, \"community\": {\"status\": \"Accepted\", \"rating\": {\"count\": 25, \"average\": 4.28}, \"have\": 168, \"contributors\": [{\"username\": \"kinoeyevertov\", \"resource_url\": \"http://api.discogs.com/users/kinoeyevertov\"}, {\"username\": \"Kepe\", \"resource_url\": \"http://api.discogs.com/users/Kepe\"}, {\"username\": \"Internaut\", \"resource_url\": \"http://api.discogs.com/users/Internaut\"}, {\"username\": \"vokuhila\", \"resource_url\": \"http://api.discogs.com/users/vokuhila\"}, {\"username\": \"dalhembe\", \"resource_url\": \"http://api.discogs.com/users/dalhembe\"}, {\"username\": \"ertee\", \"resource_url\": \"http://api.discogs.com/users/ertee\"}], \"want\": 75, \"submitter\": {\"username\": \"kinoeyevertov\", \"resource_url\": \"http://api.discogs.com/users/kinoeyevertov\"}, \"data_quality\": \"Needs Vote\"}, \"released\": \"2004\", \"master_url\": \"http://api.discogs.com/masters/142783\", \"year\": 2004, \"images\": [{\"uri\": \"\", \"height\": 600, \"width\": 600, \"resource_url\": \"\", \"type\": \"primary\", \"uri150\": \"\"}, {\"uri\": \"\", \"height\": 600, \"width\": 600, \"resource_url\": \"\", \"type\": \"secondary\", \"uri150\": \"\"}], \"date_added\": \"2008-02-21T10:34:20-08:00\", \"format_quantity\": 1, \"id\": 1165092, \"genres\": [\"Folk, World, & Country\", \"Rock\"], \"thumb\": \"\", \"extraartists\": [{\"join\": \"\", \"name\": \"Gary Burden\", \"anv\": \"\", \"tracks\": \"\", \"role\": \"Art Direction, Design\", \"resource_url\": \"http://api.discogs.com/artists/1106428\", \"id\": 1106428}, {\"join\": \"\", \"name\": \"Nathaniel Russell\", \"anv\": \"\", \"tracks\": \"\", \"role\": \"Artwork [Reissue]\", \"resource_url\": \"http://api.discogs.com/artists/569142\", \"id\": 569142}, {\"join\": \"\", \"name\": \"Clydie King\", \"anv\": \"\", \"tracks\": \"\", \"role\": \"Backing Vocals\", \"resource_url\": \"http://api.discogs.com/artists/258111\", \"id\": 258111}, {\"join\": \"\", \"name\": \"Rita Coolidge\", \"anv\": \"\", \"tracks\": \"\", \"role\": \"Backing Vocals\", \"resource_url\": \"http://api.discogs.com/artists/135243\", \"id\": 135243}, {\"join\": \"\", \"name\": \"Venetta Fields\", \"anv\": \"Vanetta Fields\", \"tracks\": \"\", \"role\": \"Backing Vocals\", \"resource_url\": \"http://api.discogs.com/artists/258113\", \"id\": 258113}, {\"join\": \"\", \"name\": \"Michael Crumsho\", \"anv\": \"\", \"tracks\": \"\", \"role\": \"Liner Notes\", \"resource_url\": \"http://api.discogs.com/artists/1895941\", \"id\": 1895941}, {\"join\": \"\", \"name\": \"Gary Hobish\", \"anv\": \"\", \"tracks\": \"\", \"role\": \"Mastered By\", \"resource_url\": \"http://api.discogs.com/artists/330016\", \"id\": 330016}, {\"join\": \"\", \"name\": \"Bob Harris (5)\", \"anv\": \"\", \"tracks\": \"\", \"role\": \"Orchestrated By\", \"resource_url\": \"http://api.discogs.com/artists/964677\", \"id\": 964677}, {\"join\": \"\", \"name\": \"Don Bagly\", \"anv\": \"\", \"tracks\": \"\", \"role\": \"Orchestrated By\", \"resource_url\": \"http://api.discogs.com/artists/925912\", \"id\": 925912}, {\"join\": \"\", \"name\": \"Henry Diltz\", \"anv\": \"\", \"tracks\": \"\", \"role\": \"Photography By\", \"resource_url\": \"http://api.discogs.com/artists/354607\", \"id\": 354607}, {\"join\": \"\", \"name\": \"Henry Lewy\", \"anv\": \"\", \"tracks\": \"\", \"role\": \"Producer\", \"resource_url\": \"http://api.discogs.com/artists/259822\", \"id\": 259822}, {\"join\": \"\", \"name\": \"Jim Pons\", \"anv\": \"\", \"tracks\": \"\", \"role\": \"Producer\", \"resource_url\": \"http://api.discogs.com/artists/334365\", \"id\": 334365}, {\"join\": \"\", \"name\": \"John Beck (4)\", \"anv\": \"\", \"tracks\": \"\", \"role\": \"Producer\", \"resource_url\": \"http://api.discogs.com/artists/925911\", \"id\": 925911}, {\"join\": \"\", \"name\": \"Pat Thomas (2)\", \"anv\": \"\", \"tracks\": \"\", \"role\": \"Reissue Producer\", \"resource_url\": \"http://api.discogs.com/artists/554392\", \"id\": 554392}, {\"join\": \"\", \"name\": \"Judee Sill\", \"anv\": \"\", \"tracks\": \"\", \"role\": \"Vocals, Written-By, Arranged By\", \"resource_url\": \"http://api.discogs.com/artists/558172\", \"id\": 558172}], \"title\": \"Judee Sill\", \"country\": \"US\", \"notes\": \"Originally released in 1971.\", \"companies\": [], \"uri\": \"http://www.discogs.com/Judee-Sill-Judee-Sill/release/1165092\", \"artists\": [{\"join\": \"\", \"name\": \"Judee Sill\", \"anv\": \"\", \"tracks\": \"\", \"role\": \"\", \"resource_url\": \"http://api.discogs.com/artists/558172\", \"id\": 558172}], \"formats\": [{\"descriptions\": [\"LP\", \"Album\", \"Reissue\"], \"name\": \"Vinyl\", \"qty\": \"1\"}], \"date_changed\": \"2015-04-25T03:16:33-07:00\", \"resource_url\": \"http://api.discogs.com/releases/1165092\", \"master_id\": 142783, \"tracklist\": [{\"duration\": \"\", \"position\": \"A1\", \"type_\": \"track\", \"title\": \"Crayon Angels\"}, {\"duration\": \"\", \"position\": \"A2\", \"type_\": \"track\", \"title\": \"The Phantom Cowboy\"}, {\"duration\": \"\", \"position\": \"A3\", \"type_\": \"track\", \"title\": \"The Archetypal Man\"}, {\"duration\": \"\", \"position\": \"A4\", \"type_\": \"track\", \"title\": \"The Lamb Ran Away With The Crown\"}, {\"duration\": \"\", \"position\": \"A5\", \"type_\": \"track\", \"title\": \"Lady-O\"}, {\"duration\": \"\", \"position\": \"A6\", \"type_\": \"track\", \"title\": \"Jesus Was A Cross Maker\"}, {\"duration\": \"\", \"position\": \"B1\", \"type_\": \"track\", \"title\": \"Ridge Rider\"}, {\"duration\": \"\", \"position\": \"B2\", \"type_\": \"track\", \"title\": \"My Man On Love\"}, {\"duration\": \"\", \"position\": \"B3\", \"type_\": \"track\", \"title\": \"Lopin' Along Thru The Cosmos\"}, {\"duration\": \"\", \"position\": \"B4\", \"type_\": \"track\", \"title\": \"Enchanted Sky Machines\"}, {\"duration\": \"\", \"position\": \"B5\", \"type_\": \"track\", \"title\": \"Abracadabra\"}], \"data_quality\": \"Needs Vote\"}\n",
    "\"\"\"\n"
   ]
  },
  {
   "cell_type": "code",
   "execution_count": 5,
   "metadata": {
    "collapsed": false
   },
   "outputs": [
    {
     "ename": "NameError",
     "evalue": "name 'true' is not defined",
     "output_type": "error",
     "traceback": [
      "\u001b[0;31m---------------------------------------------------------------------------\u001b[0m",
      "\u001b[0;31mNameError\u001b[0m                                 Traceback (most recent call last)",
      "\u001b[0;32m<ipython-input-5-9a5e46cc3a47>\u001b[0m in \u001b[0;36m<module>\u001b[0;34m()\u001b[0m\n\u001b[0;32m----> 1\u001b[0;31m \u001b[0mtest_release\u001b[0m \u001b[0;34m=\u001b[0m \u001b[0meval\u001b[0m\u001b[0;34m(\u001b[0m\u001b[0mtest_release\u001b[0m\u001b[0;34m)\u001b[0m\u001b[0;34m\u001b[0m\u001b[0m\n\u001b[0m",
      "\u001b[0;32m<string>\u001b[0m in \u001b[0;36m<module>\u001b[0;34m()\u001b[0m\n",
      "\u001b[0;31mNameError\u001b[0m: name 'true' is not defined"
     ]
    }
   ],
   "source": [
    "test_release = eval(test_release)\n"
   ]
  },
  {
   "cell_type": "code",
   "execution_count": 2,
   "metadata": {
    "collapsed": false
   },
   "outputs": [],
   "source": [
    "import json\n",
    "test = json.load(open(\"output/full_collections/devdev_collection.json\", \"r\"))"
   ]
  },
  {
   "cell_type": "code",
   "execution_count": 4,
   "metadata": {
    "collapsed": false
   },
   "outputs": [
    {
     "data": {
      "text/plain": [
       "813"
      ]
     },
     "execution_count": 4,
     "metadata": {},
     "output_type": "execute_result"
    }
   ],
   "source": [
    "len(test)"
   ]
  },
  {
   "cell_type": "code",
   "execution_count": 7,
   "metadata": {
    "collapsed": false
   },
   "outputs": [
    {
     "data": {
      "text/plain": [
       "[{u'anv': '',\n",
       "  u'id': 194,\n",
       "  u'join': '',\n",
       "  u'name': u'Various',\n",
       "  u'resource_url': u'https://api.discogs.com/artists/194',\n",
       "  u'role': '',\n",
       "  u'tracks': ''}]"
      ]
     },
     "execution_count": 7,
     "metadata": {},
     "output_type": "execute_result"
    }
   ],
   "source": [
    "test[0][\"artists\"]\n"
   ]
  },
  {
   "cell_type": "code",
   "execution_count": 18,
   "metadata": {
    "collapsed": false
   },
   "outputs": [
    {
     "name": "stdout",
     "output_type": "stream",
     "text": [
      "{'instance_id': 70879044, 'rating': 0, 'basic_information': {'artists': [{'join': '', 'name': 'Various', 'anv': '', 'tracks': '', 'role': '', 'resource_url': 'http://api.discogs.com/artists/194', 'id': 194}], 'thumb': '', 'formats': [{'qty': '2', 'descriptions': ['LP', 'Compilation'], 'name': 'Vinyl'}], 'title': 'Techno! The New Dance Sound Of Detroit', 'resource_url': 'http://api.discogs.com/releases/57919', 'labels': [{'resource_url': 'http://api.discogs.com/labels/902', 'entity_type': '1', 'catno': 'DIXG 75', 'id': 902, 'name': '10 Records'}], 'year': 1988, 'id': 57919}, 'id': 57919}\n",
      "Release ID: 57919\n"
     ]
    },
    {
     "ename": "KeyError",
     "evalue": "'master_id'",
     "output_type": "error",
     "traceback": [
      "\u001b[0;31m---------------------------------------------------------------------------\u001b[0m",
      "\u001b[0;31mKeyError\u001b[0m                                  Traceback (most recent call last)",
      "\u001b[0;32m<ipython-input-18-4da9f22c43f5>\u001b[0m in \u001b[0;36m<module>\u001b[0;34m()\u001b[0m\n\u001b[1;32m      2\u001b[0m     \u001b[0;32mprint\u001b[0m \u001b[0mrelease\u001b[0m\u001b[0;34m\u001b[0m\u001b[0m\n\u001b[1;32m      3\u001b[0m     \u001b[0;32mprint\u001b[0m \u001b[0;34m\"Release ID: {0}\"\u001b[0m\u001b[0;34m.\u001b[0m\u001b[0mformat\u001b[0m\u001b[0;34m(\u001b[0m\u001b[0mrelease\u001b[0m\u001b[0;34m[\u001b[0m\u001b[0;34m\"id\"\u001b[0m\u001b[0;34m]\u001b[0m\u001b[0;34m)\u001b[0m\u001b[0;34m\u001b[0m\u001b[0m\n\u001b[0;32m----> 4\u001b[0;31m     \u001b[0;32mprint\u001b[0m \u001b[0mrelease\u001b[0m\u001b[0;34m[\u001b[0m\u001b[0;34m\"master_id\"\u001b[0m\u001b[0;34m]\u001b[0m\u001b[0;34m\u001b[0m\u001b[0m\n\u001b[0m",
      "\u001b[0;31mKeyError\u001b[0m: 'master_id'"
     ]
    }
   ],
   "source": [
    "for release in test[\"releases\"]:\n",
    "    print release\n",
    "    print \"Release ID: {0}\".format(release[\"id\"])\n",
    "    print release[\"master_id\"]"
   ]
  },
  {
   "cell_type": "code",
   "execution_count": 2,
   "metadata": {
    "collapsed": false
   },
   "outputs": [
    {
     "ename": "NameError",
     "evalue": "name 'test' is not defined",
     "output_type": "error",
     "traceback": [
      "\u001b[0;31m---------------------------------------------------------------------------\u001b[0m",
      "\u001b[0;31mNameError\u001b[0m                                 Traceback (most recent call last)",
      "\u001b[0;32m<ipython-input-2-b2597a83c69c>\u001b[0m in \u001b[0;36m<module>\u001b[0;34m()\u001b[0m\n\u001b[0;32m----> 1\u001b[0;31m \u001b[0mlen\u001b[0m\u001b[0;34m(\u001b[0m\u001b[0mtest\u001b[0m\u001b[0;34m)\u001b[0m\u001b[0;34m\u001b[0m\u001b[0m\n\u001b[0m",
      "\u001b[0;31mNameError\u001b[0m: name 'test' is not defined"
     ]
    }
   ],
   "source": [
    "len(test)"
   ]
  },
  {
   "cell_type": "code",
   "execution_count": 5,
   "metadata": {
    "collapsed": false
   },
   "outputs": [
    {
     "ename": "ConnectionError",
     "evalue": "HTTPConnectionPool(host='api.discogs.com', port=80): Max retries exceeded with url: /users/devdev/collection/folders/0/releases (Caused by <class 'httplib.BadStatusLine'>: '')",
     "output_type": "error",
     "traceback": [
      "\u001b[0;31m---------------------------------------------------------------------------\u001b[0m",
      "\u001b[0;31mConnectionError\u001b[0m                           Traceback (most recent call last)",
      "\u001b[0;32m<ipython-input-5-e077df7b12f7>\u001b[0m in \u001b[0;36m<module>\u001b[0;34m()\u001b[0m\n\u001b[1;32m      1\u001b[0m \u001b[0;32mimport\u001b[0m \u001b[0mrequests\u001b[0m\u001b[0;34m\u001b[0m\u001b[0m\n\u001b[0;32m----> 2\u001b[0;31m \u001b[0mr\u001b[0m \u001b[0;34m=\u001b[0m \u001b[0mrequests\u001b[0m\u001b[0;34m.\u001b[0m\u001b[0mget\u001b[0m\u001b[0;34m(\u001b[0m\u001b[0;34m\"http://api.discogs.com/users/devdev/collection/folders/0/releases\"\u001b[0m\u001b[0;34m)\u001b[0m\u001b[0;34m\u001b[0m\u001b[0m\n\u001b[0m",
      "\u001b[0;32m/Library/Python/2.7/site-packages/requests/api.pyc\u001b[0m in \u001b[0;36mget\u001b[0;34m(url, **kwargs)\u001b[0m\n\u001b[1;32m     53\u001b[0m \u001b[0;34m\u001b[0m\u001b[0m\n\u001b[1;32m     54\u001b[0m     \u001b[0mkwargs\u001b[0m\u001b[0;34m.\u001b[0m\u001b[0msetdefault\u001b[0m\u001b[0;34m(\u001b[0m\u001b[0;34m'allow_redirects'\u001b[0m\u001b[0;34m,\u001b[0m \u001b[0mTrue\u001b[0m\u001b[0;34m)\u001b[0m\u001b[0;34m\u001b[0m\u001b[0m\n\u001b[0;32m---> 55\u001b[0;31m     \u001b[0;32mreturn\u001b[0m \u001b[0mrequest\u001b[0m\u001b[0;34m(\u001b[0m\u001b[0;34m'get'\u001b[0m\u001b[0;34m,\u001b[0m \u001b[0murl\u001b[0m\u001b[0;34m,\u001b[0m \u001b[0;34m**\u001b[0m\u001b[0mkwargs\u001b[0m\u001b[0;34m)\u001b[0m\u001b[0;34m\u001b[0m\u001b[0m\n\u001b[0m\u001b[1;32m     56\u001b[0m \u001b[0;34m\u001b[0m\u001b[0m\n\u001b[1;32m     57\u001b[0m \u001b[0;34m\u001b[0m\u001b[0m\n",
      "\u001b[0;32m/Library/Python/2.7/site-packages/requests/api.pyc\u001b[0m in \u001b[0;36mrequest\u001b[0;34m(method, url, **kwargs)\u001b[0m\n\u001b[1;32m     42\u001b[0m \u001b[0;34m\u001b[0m\u001b[0m\n\u001b[1;32m     43\u001b[0m     \u001b[0msession\u001b[0m \u001b[0;34m=\u001b[0m \u001b[0msessions\u001b[0m\u001b[0;34m.\u001b[0m\u001b[0mSession\u001b[0m\u001b[0;34m(\u001b[0m\u001b[0;34m)\u001b[0m\u001b[0;34m\u001b[0m\u001b[0m\n\u001b[0;32m---> 44\u001b[0;31m     \u001b[0;32mreturn\u001b[0m \u001b[0msession\u001b[0m\u001b[0;34m.\u001b[0m\u001b[0mrequest\u001b[0m\u001b[0;34m(\u001b[0m\u001b[0mmethod\u001b[0m\u001b[0;34m=\u001b[0m\u001b[0mmethod\u001b[0m\u001b[0;34m,\u001b[0m \u001b[0murl\u001b[0m\u001b[0;34m=\u001b[0m\u001b[0murl\u001b[0m\u001b[0;34m,\u001b[0m \u001b[0;34m**\u001b[0m\u001b[0mkwargs\u001b[0m\u001b[0;34m)\u001b[0m\u001b[0;34m\u001b[0m\u001b[0m\n\u001b[0m\u001b[1;32m     45\u001b[0m \u001b[0;34m\u001b[0m\u001b[0m\n\u001b[1;32m     46\u001b[0m \u001b[0;34m\u001b[0m\u001b[0m\n",
      "\u001b[0;32m/Library/Python/2.7/site-packages/requests/sessions.pyc\u001b[0m in \u001b[0;36mrequest\u001b[0;34m(self, method, url, params, data, headers, cookies, files, auth, timeout, allow_redirects, proxies, hooks, stream, verify, cert)\u001b[0m\n\u001b[1;32m    454\u001b[0m             \u001b[0;34m'allow_redirects'\u001b[0m\u001b[0;34m:\u001b[0m \u001b[0mallow_redirects\u001b[0m\u001b[0;34m,\u001b[0m\u001b[0;34m\u001b[0m\u001b[0m\n\u001b[1;32m    455\u001b[0m         }\n\u001b[0;32m--> 456\u001b[0;31m         \u001b[0mresp\u001b[0m \u001b[0;34m=\u001b[0m \u001b[0mself\u001b[0m\u001b[0;34m.\u001b[0m\u001b[0msend\u001b[0m\u001b[0;34m(\u001b[0m\u001b[0mprep\u001b[0m\u001b[0;34m,\u001b[0m \u001b[0;34m**\u001b[0m\u001b[0msend_kwargs\u001b[0m\u001b[0;34m)\u001b[0m\u001b[0;34m\u001b[0m\u001b[0m\n\u001b[0m\u001b[1;32m    457\u001b[0m \u001b[0;34m\u001b[0m\u001b[0m\n\u001b[1;32m    458\u001b[0m         \u001b[0;32mreturn\u001b[0m \u001b[0mresp\u001b[0m\u001b[0;34m\u001b[0m\u001b[0m\n",
      "\u001b[0;32m/Library/Python/2.7/site-packages/requests/sessions.pyc\u001b[0m in \u001b[0;36msend\u001b[0;34m(self, request, **kwargs)\u001b[0m\n\u001b[1;32m    557\u001b[0m \u001b[0;34m\u001b[0m\u001b[0m\n\u001b[1;32m    558\u001b[0m         \u001b[0;31m# Send the request\u001b[0m\u001b[0;34m\u001b[0m\u001b[0;34m\u001b[0m\u001b[0m\n\u001b[0;32m--> 559\u001b[0;31m         \u001b[0mr\u001b[0m \u001b[0;34m=\u001b[0m \u001b[0madapter\u001b[0m\u001b[0;34m.\u001b[0m\u001b[0msend\u001b[0m\u001b[0;34m(\u001b[0m\u001b[0mrequest\u001b[0m\u001b[0;34m,\u001b[0m \u001b[0;34m**\u001b[0m\u001b[0mkwargs\u001b[0m\u001b[0;34m)\u001b[0m\u001b[0;34m\u001b[0m\u001b[0m\n\u001b[0m\u001b[1;32m    560\u001b[0m \u001b[0;34m\u001b[0m\u001b[0m\n\u001b[1;32m    561\u001b[0m         \u001b[0;31m# Total elapsed time of the request (approximately)\u001b[0m\u001b[0;34m\u001b[0m\u001b[0;34m\u001b[0m\u001b[0m\n",
      "\u001b[0;32m/Library/Python/2.7/site-packages/requests/adapters.pyc\u001b[0m in \u001b[0;36msend\u001b[0;34m(self, request, stream, timeout, verify, cert, proxies)\u001b[0m\n\u001b[1;32m    373\u001b[0m \u001b[0;34m\u001b[0m\u001b[0m\n\u001b[1;32m    374\u001b[0m         \u001b[0;32mexcept\u001b[0m \u001b[0mMaxRetryError\u001b[0m \u001b[0;32mas\u001b[0m \u001b[0me\u001b[0m\u001b[0;34m:\u001b[0m\u001b[0;34m\u001b[0m\u001b[0m\n\u001b[0;32m--> 375\u001b[0;31m             \u001b[0;32mraise\u001b[0m \u001b[0mConnectionError\u001b[0m\u001b[0;34m(\u001b[0m\u001b[0me\u001b[0m\u001b[0;34m,\u001b[0m \u001b[0mrequest\u001b[0m\u001b[0;34m=\u001b[0m\u001b[0mrequest\u001b[0m\u001b[0;34m)\u001b[0m\u001b[0;34m\u001b[0m\u001b[0m\n\u001b[0m\u001b[1;32m    376\u001b[0m \u001b[0;34m\u001b[0m\u001b[0m\n\u001b[1;32m    377\u001b[0m         \u001b[0;32mexcept\u001b[0m \u001b[0m_ProxyError\u001b[0m \u001b[0;32mas\u001b[0m \u001b[0me\u001b[0m\u001b[0;34m:\u001b[0m\u001b[0;34m\u001b[0m\u001b[0m\n",
      "\u001b[0;31mConnectionError\u001b[0m: HTTPConnectionPool(host='api.discogs.com', port=80): Max retries exceeded with url: /users/devdev/collection/folders/0/releases (Caused by <class 'httplib.BadStatusLine'>: '')"
     ]
    }
   ],
   "source": [
    "import requests\n",
    "r = requests.get(\"http://api.discogs.com/users/devdev/collection/folders/0/releases\")"
   ]
  },
  {
   "cell_type": "code",
   "execution_count": 6,
   "metadata": {
    "collapsed": true
   },
   "outputs": [],
   "source": [
    "test = {\"pagination\": {\"per_page\": 50, \"items\": 813, \"page\": 1, \"urls\": {\"last\": \"http://api.discogs.com/users/devdev/collection/folders/0/releases?per_page=50&page=17\", \"next\": \"http://api.discogs.com/users/devdev/collection/folders/0/releases?per_page=50&page=2\"}, \"pages\": 17}, \"releases\": [{\"instance_id\": 70879044, \"rating\": 0, \"basic_information\": {\"labels\": [{\"id\": 902, \"resource_url\": \"http://api.discogs.com/labels/902\", \"catno\": \"DIXG 75\", \"name\": \"10 Records\", \"entity_type\": \"1\"}], \"formats\": [{\"descriptions\": [\"LP\", \"Compilation\"], \"name\": \"Vinyl\", \"qty\": \"2\"}], \"thumb\": \"\", \"title\": \"Techno! The New Dance Sound Of Detroit\", \"artists\": [{\"join\": \"\", \"name\": \"Various\", \"anv\": \"\", \"tracks\": \"\", \"role\": \"\", \"resource_url\": \"http://api.discogs.com/artists/194\", \"id\": 194}], \"resource_url\": \"http://api.discogs.com/releases/57919\", \"year\": 1988, \"id\": 57919}, \"id\": 57919}, {\"instance_id\": 70879271, \"rating\": 0, \"basic_information\": {\"labels\": [{\"id\": 902, \"resource_url\": \"http://api.discogs.com/labels/902\", \"catno\": \"VSX 1507\", \"name\": \"10 Records\", \"entity_type\": \"1\"}], \"formats\": [{\"descriptions\": [\"12\\\"\", \"33 \\u2153 RPM\", \"Maxi-Single\"], \"name\": \"Vinyl\", \"qty\": \"1\"}], \"thumb\": \"\", \"title\": \"Do You Love What You Feel\", \"artists\": [{\"join\": \"\", \"name\": \"Inner City\", \"anv\": \"\", \"tracks\": \"\", \"role\": \"\", \"resource_url\": \"http://api.discogs.com/artists/3868\", \"id\": 3868}], \"resource_url\": \"http://api.discogs.com/releases/681641\", \"year\": 1989, \"id\": 681641}, \"id\": 681641}, {\"instance_id\": 70879480, \"rating\": 0, \"basic_information\": {\"labels\": [{\"id\": 1261, \"resource_url\": \"http://api.discogs.com/labels/1261\", \"catno\": \"PURE LP011\", \"name\": \"100% Pure\", \"entity_type\": \"1\"}], \"formats\": [{\"descriptions\": [\"12\\\"\", \"Album\", \"Remastered\", \"33 \\u2153 RPM\", \"45 RPM\"], \"name\": \"Vinyl\", \"qty\": \"2\"}], \"thumb\": \"\", \"title\": \"Secret Life Of Machines (Remastered)\", \"artists\": [{\"join\": \"AKA\", \"name\": \"Sterac\", \"anv\": \"\", \"tracks\": \"\", \"role\": \"\", \"resource_url\": \"http://api.discogs.com/artists/1174\", \"id\": 1174}, {\"join\": \"\", \"name\": \"Steve Rachmad\", \"anv\": \"\", \"tracks\": \"\", \"role\": \"\", \"resource_url\": \"http://api.discogs.com/artists/1617\", \"id\": 1617}], \"resource_url\": \"http://api.discogs.com/releases/3665517\", \"year\": 2012, \"id\": 3665517}, \"id\": 3665517}, {\"instance_id\": 70879487, \"rating\": 0, \"basic_information\": {\"labels\": [{\"id\": 283751, \"resource_url\": \"http://api.discogs.com/labels/283751\", \"catno\": \"if13\", \"name\": \"1972\", \"entity_type\": \"1\"}], \"formats\": [{\"descriptions\": [\"LP\", \"Album\", \"Reissue\"], \"name\": \"Vinyl\", \"qty\": \"1\"}], \"thumb\": \"\", \"title\": \"Richard D. James Album\", \"artists\": [{\"join\": \"\", \"name\": \"Aphex Twin\", \"anv\": \"\", \"tracks\": \"\", \"role\": \"\", \"resource_url\": \"http://api.discogs.com/artists/45\", \"id\": 45}], \"resource_url\": \"http://api.discogs.com/releases/3908906\", \"year\": 2012, \"id\": 3908906}, \"id\": 3908906}, {\"instance_id\": 70879466, \"rating\": 5, \"basic_information\": {\"labels\": [{\"id\": 634, \"resource_url\": \"http://api.discogs.com/labels/634\", \"catno\": \"CAD3208\", \"name\": \"4AD\", \"entity_type\": \"1\"}], \"formats\": [{\"descriptions\": [\"LP\", \"Album\"], \"name\": \"Vinyl\", \"qty\": \"1\"}], \"thumb\": \"\", \"title\": \"Visions\", \"artists\": [{\"join\": \"\", \"name\": \"Grimes (4)\", \"anv\": \"\", \"tracks\": \"\", \"role\": \"\", \"resource_url\": \"http://api.discogs.com/artists/1993487\", \"id\": 1993487}], \"resource_url\": \"http://api.discogs.com/releases/3419668\", \"year\": 2012, \"id\": 3419668}, \"id\": 3419668}, {\"instance_id\": 70879099, \"rating\": 0, \"basic_information\": {\"labels\": [{\"id\": 158452, \"resource_url\": \"http://api.discogs.com/labels/158452\", \"catno\": \"12 BRW 348\", \"name\": \"4th & Broadway\", \"entity_type\": \"1\"}, {\"id\": 158452, \"resource_url\": \"http://api.discogs.com/labels/158452\", \"catno\": \"854 935-1\", \"name\": \"4th & Broadway\", \"entity_type\": \"1\"}], \"formats\": [{\"descriptions\": [\"12\\\"\", \"Limited Edition\"], \"text\": \"Clear\", \"name\": \"Vinyl\", \"qty\": \"1\"}], \"thumb\": \"\", \"title\": \"Makes Me Wanna Die\", \"artists\": [{\"join\": \",\", \"name\": \"Tricky\", \"anv\": \"\", \"tracks\": \"\", \"role\": \"\", \"resource_url\": \"http://api.discogs.com/artists/3140\", \"id\": 3140}], \"resource_url\": \"http://api.discogs.com/releases/103013\", \"year\": 1997, \"id\": 103013}, \"id\": 103013}, {\"instance_id\": 70879444, \"rating\": 0, \"basic_information\": {\"labels\": [{\"id\": 245458, \"resource_url\": \"http://api.discogs.com/labels/245458\", \"catno\": \"1002\", \"name\": \"7 Days Ent.\", \"entity_type\": \"1\"}], \"formats\": [{\"descriptions\": [\"12\\\"\", \"33 \\u2153 RPM\"], \"name\": \"Vinyl\", \"qty\": \"1\"}], \"thumb\": \"\", \"title\": \"Detroit Heat\", \"artists\": [{\"join\": \"\", \"name\": \"Big Strick\", \"anv\": \"\", \"tracks\": \"\", \"role\": \"\", \"resource_url\": \"http://api.discogs.com/artists/1156160\", \"id\": 1156160}], \"resource_url\": \"http://api.discogs.com/releases/2917910\", \"year\": 2011, \"id\": 2917910}, \"id\": 2917910}, {\"instance_id\": 114877627, \"rating\": 0, \"basic_information\": {\"labels\": [{\"id\": 245458, \"resource_url\": \"http://api.discogs.com/labels/245458\", \"catno\": \"1008\", \"name\": \"7 Days Ent.\", \"entity_type\": \"1\"}], \"formats\": [{\"descriptions\": [\"12\\\"\"], \"name\": \"Vinyl\", \"qty\": \"1\"}], \"thumb\": \"\", \"title\": \"Groove\", \"artists\": [{\"join\": \"\", \"name\": \"Big Strick\", \"anv\": \"\", \"tracks\": \"\", \"role\": \"\", \"resource_url\": \"http://api.discogs.com/artists/1156160\", \"id\": 1156160}], \"resource_url\": \"http://api.discogs.com/releases/4602287\", \"year\": 2013, \"id\": 4602287}, \"id\": 4602287}, {\"instance_id\": 70879542, \"rating\": 0, \"basic_information\": {\"labels\": [{\"id\": 245458, \"resource_url\": \"http://api.discogs.com/labels/245458\", \"catno\": \"1009\", \"name\": \"7 Days Ent.\", \"entity_type\": \"1\"}], \"formats\": [{\"descriptions\": [\"12\\\"\"], \"name\": \"Vinyl\", \"qty\": \"1\"}], \"thumb\": \"\", \"title\": \"Like Father, Like Son\", \"artists\": [{\"join\": \"/\", \"name\": \"Big Strick\", \"anv\": \"\", \"tracks\": \"\", \"role\": \"\", \"resource_url\": \"http://api.discogs.com/artists/1156160\", \"id\": 1156160}, {\"join\": \"\", \"name\": \"Generation Next (2)\", \"anv\": \"\", \"tracks\": \"\", \"role\": \"\", \"resource_url\": \"http://api.discogs.com/artists/3016794\", \"id\": 3016794}], \"resource_url\": \"http://api.discogs.com/releases/5113722\", \"year\": 2013, \"id\": 5113722}, \"id\": 5113722}, {\"instance_id\": 70879569, \"rating\": 0, \"basic_information\": {\"labels\": [{\"id\": 245458, \"resource_url\": \"http://api.discogs.com/labels/245458\", \"catno\": \"1011\", \"name\": \"7 Days Ent.\", \"entity_type\": \"1\"}], \"formats\": [{\"descriptions\": [\"LP\"], \"name\": \"Vinyl\", \"qty\": \"2\"}], \"thumb\": \"\", \"title\": \"Like Father, Like Son\", \"artists\": [{\"join\": \"/\", \"name\": \"Generation Next (2)\", \"anv\": \"\", \"tracks\": \"\", \"role\": \"\", \"resource_url\": \"http://api.discogs.com/artists/3016794\", \"id\": 3016794}, {\"join\": \",\", \"name\": \"Big Strick\", \"anv\": \"\", \"tracks\": \"\", \"role\": \"\", \"resource_url\": \"http://api.discogs.com/artists/1156160\", \"id\": 1156160}], \"resource_url\": \"http://api.discogs.com/releases/5803628\", \"year\": 2014, \"id\": 5803628}, \"id\": 5803628}, {\"instance_id\": 128666250, \"rating\": 0, \"basic_information\": {\"labels\": [{\"id\": 245458, \"resource_url\": \"http://api.discogs.com/labels/245458\", \"catno\": \"1012\", \"name\": \"7 Days Ent.\", \"entity_type\": \"1\"}], \"formats\": [{\"descriptions\": [\"12\\\"\", \"33 \\u2153 RPM\"], \"name\": \"Vinyl\", \"qty\": \"1\"}], \"thumb\": \"\", \"title\": \"Simple Pleasures\", \"artists\": [{\"join\": \"\", \"name\": \"Big Strick\", \"anv\": \"\", \"tracks\": \"\", \"role\": \"\", \"resource_url\": \"http://api.discogs.com/artists/1156160\", \"id\": 1156160}], \"resource_url\": \"http://api.discogs.com/releases/6786350\", \"year\": 2015, \"id\": 6786350}, \"id\": 6786350}, {\"instance_id\": 70879530, \"rating\": 0, \"basic_information\": {\"labels\": [{\"id\": 245458, \"resource_url\": \"http://api.discogs.com/labels/245458\", \"catno\": \"7dayentgn-1001 \", \"name\": \"7 Days Ent.\", \"entity_type\": \"1\"}], \"formats\": [{\"descriptions\": [\"12\\\"\", \"33 \\u2153 RPM\"], \"name\": \"Vinyl\", \"qty\": \"1\"}], \"thumb\": \"\", \"title\": \"Medication\", \"artists\": [{\"join\": \"\", \"name\": \"Generation Next (2)\", \"anv\": \"\", \"tracks\": \"\", \"role\": \"\", \"resource_url\": \"http://api.discogs.com/artists/3016794\", \"id\": 3016794}], \"resource_url\": \"http://api.discogs.com/releases/4883878\", \"year\": 2013, \"id\": 4883878}, \"id\": 4883878}, {\"instance_id\": 70879504, \"rating\": 0, \"basic_information\": {\"labels\": [{\"id\": 245458, \"resource_url\": \"http://api.discogs.com/labels/245458\", \"catno\": \"7DAYSENT-GN1000 \", \"name\": \"7 Days Ent.\", \"entity_type\": \"1\"}], \"formats\": [{\"descriptions\": [\"12\\\"\", \"EP\"], \"name\": \"Vinyl\", \"qty\": \"1\"}], \"thumb\": \"\", \"title\": \"Generation Next EP\", \"artists\": [{\"join\": \"\", \"name\": \"Generation Next (2)\", \"anv\": \"\", \"tracks\": \"\", \"role\": \"\", \"resource_url\": \"http://api.discogs.com/artists/3016794\", \"id\": 3016794}], \"resource_url\": \"http://api.discogs.com/releases/4316246\", \"year\": 2013, \"id\": 4316246}, \"id\": 4316246}, {\"instance_id\": 112900462, \"rating\": 0, \"basic_information\": {\"labels\": [{\"id\": 245458, \"resource_url\": \"http://api.discogs.com/labels/245458\", \"catno\": \"7DAYSENT-GN1002\", \"name\": \"7 Days Ent.\", \"entity_type\": \"1\"}], \"formats\": [{\"descriptions\": [\"12\\\"\", \"33 \\u2153 RPM\"], \"name\": \"Vinyl\", \"qty\": \"1\"}], \"thumb\": \"\", \"title\": \"Nocturne\", \"artists\": [{\"join\": \"\", \"name\": \"Generation Next (2)\", \"anv\": \"\", \"tracks\": \"\", \"role\": \"\", \"resource_url\": \"http://api.discogs.com/artists/3016794\", \"id\": 3016794}], \"resource_url\": \"http://api.discogs.com/releases/6137603\", \"year\": 2014, \"id\": 6137603}, \"id\": 6137603}, {\"instance_id\": 115878033, \"rating\": 0, \"basic_information\": {\"labels\": [{\"id\": 245458, \"resource_url\": \"http://api.discogs.com/labels/245458\", \"catno\": \"BIGSTICK-007\", \"name\": \"7 Days Ent.\", \"entity_type\": \"1\"}], \"formats\": [{\"descriptions\": [\"12\\\"\"], \"name\": \"Vinyl\", \"qty\": \"1\"}], \"thumb\": \"\", \"title\": \"Big Strick Presents... Resivior Dogs Volume. 1\", \"artists\": [{\"join\": \"\", \"name\": \"Various\", \"anv\": \"\", \"tracks\": \"\", \"role\": \"\", \"resource_url\": \"http://api.discogs.com/artists/194\", \"id\": 194}], \"resource_url\": \"http://api.discogs.com/releases/3845105\", \"year\": 2012, \"id\": 3845105}, \"id\": 3845105}, {\"instance_id\": 70879360, \"rating\": 0, \"basic_information\": {\"labels\": [{\"id\": 4738, \"resource_url\": \"http://api.discogs.com/labels/4738\", \"catno\": \"9009\", \"name\": \"99 Records\", \"entity_type\": \"1\"}], \"formats\": [{\"descriptions\": [\"LP\", \"Album\"], \"name\": \"Vinyl\", \"qty\": \"1\"}], \"thumb\": \"\", \"title\": \"\\\"Newly\\\" Alternative Tracks\", \"artists\": [{\"join\": \"\", \"name\": \"Spiritual Vibes\", \"anv\": \"\", \"tracks\": \"\", \"role\": \"\", \"resource_url\": \"http://api.discogs.com/artists/16558\", \"id\": 16558}], \"resource_url\": \"http://api.discogs.com/releases/1763486\", \"year\": 1994, \"id\": 1763486}, \"id\": 1763486}, {\"instance_id\": 70879045, \"rating\": 0, \"basic_information\": {\"labels\": [{\"id\": 904, \"resource_url\": \"http://api.discogs.com/labels/904\", \"catno\": \"SP-4853\", \"name\": \"A&M Records\", \"entity_type\": \"1\"}], \"formats\": [{\"descriptions\": [\"LP\", \"Album\"], \"name\": \"Vinyl\", \"qty\": \"1\"}], \"thumb\": \"\", \"title\": \"BGM\", \"artists\": [{\"join\": \"\", \"name\": \"Yellow Magic Orchestra\", \"anv\": \"\", \"tracks\": \"\", \"role\": \"\", \"resource_url\": \"http://api.discogs.com/artists/22061\", \"id\": 22061}], \"resource_url\": \"http://api.discogs.com/releases/58024\", \"year\": 1981, \"id\": 58024}, \"id\": 58024}, {\"instance_id\": 70879474, \"rating\": 0, \"basic_information\": {\"labels\": [{\"id\": 904, \"resource_url\": \"http://api.discogs.com/labels/904\", \"catno\": \"SP 3905\", \"name\": \"A&M Records\", \"entity_type\": \"1\"}, {\"id\": 904, \"resource_url\": \"http://api.discogs.com/labels/904\", \"catno\": \"SP 5106\", \"name\": \"A&M Records\", \"entity_type\": \"1\"}], \"formats\": [{\"descriptions\": [\"LP\", \"Album\", \"Club Edition\"], \"name\": \"Vinyl\", \"qty\": \"1\"}], \"thumb\": \"\", \"title\": \"Control\", \"artists\": [{\"join\": \"\", \"name\": \"Janet Jackson\", \"anv\": \"\", \"tracks\": \"\", \"role\": \"\", \"resource_url\": \"http://api.discogs.com/artists/8024\", \"id\": 8024}], \"resource_url\": \"http://api.discogs.com/releases/3582315\", \"year\": 1986, \"id\": 3582315}, \"id\": 3582315}, {\"instance_id\": 70879079, \"rating\": 4, \"basic_information\": {\"labels\": [{\"id\": 3308, \"resource_url\": \"http://api.discogs.com/labels/3308\", \"catno\": \"A 11 V\", \"name\": \"A-Musik\", \"entity_type\": \"1\"}], \"formats\": [{\"descriptions\": [\"LP\"], \"name\": \"Vinyl\", \"qty\": \"1\"}], \"thumb\": \"\", \"title\": \"Fijnewas Afpompen\", \"artists\": [{\"join\": \"\", \"name\": \"Holosud\", \"anv\": \"\", \"tracks\": \"\", \"role\": \"\", \"resource_url\": \"http://api.discogs.com/artists/13979\", \"id\": 13979}], \"resource_url\": \"http://api.discogs.com/releases/81145\", \"year\": 1998, \"id\": 81145}, \"id\": 81145}, {\"instance_id\": 70879026, \"rating\": 0, \"basic_information\": {\"labels\": [{\"id\": 3308, \"resource_url\": \"http://api.discogs.com/labels/3308\", \"catno\": \"a08\", \"name\": \"A-Musik\", \"entity_type\": \"1\"}], \"formats\": [{\"descriptions\": [\"12\\\"\"], \"name\": \"Vinyl\", \"qty\": \"1\"}], \"thumb\": \"\", \"title\": \"Holosud\", \"artists\": [{\"join\": \"\", \"name\": \"Holosud\", \"anv\": \"\", \"tracks\": \"\", \"role\": \"\", \"resource_url\": \"http://api.discogs.com/artists/13979\", \"id\": 13979}], \"resource_url\": \"http://api.discogs.com/releases/43545\", \"year\": 1997, \"id\": 43545}, \"id\": 43545}, {\"instance_id\": 70879124, \"rating\": 0, \"basic_information\": {\"labels\": [{\"id\": 3308, \"resource_url\": \"http://api.discogs.com/labels/3308\", \"catno\": \"a9V\", \"name\": \"A-Musik\", \"entity_type\": \"1\"}], \"formats\": [{\"descriptions\": [\"LP\"], \"text\": \"White\", \"name\": \"Vinyl\", \"qty\": \"1\"}], \"thumb\": \"\", \"title\": \"Goflex\", \"artists\": [{\"join\": \"\", \"name\": \"F.X. Randomiz\", \"anv\": \"\", \"tracks\": \"\", \"role\": \"\", \"resource_url\": \"http://api.discogs.com/artists/13977\", \"id\": 13977}], \"resource_url\": \"http://api.discogs.com/releases/136531\", \"year\": 1997, \"id\": 136531}, \"id\": 136531}, {\"instance_id\": 70879187, \"rating\": 0, \"basic_information\": {\"labels\": [{\"id\": 419574, \"resource_url\": \"http://api.discogs.com/labels/419574\", \"catno\": \"WQJB-1010\", \"name\": \"A.K.A. Bounce\", \"entity_type\": \"1\"}], \"formats\": [{\"descriptions\": [\"12\\\"\", \"33 \\u2153 RPM\", \"EP\"], \"name\": \"Vinyl\", \"qty\": \"1\"}], \"thumb\": \"\", \"title\": \"Child And Magic Remix E.P.\", \"artists\": [{\"join\": \"\", \"name\": \"Nobukazu Takemura\", \"anv\": \"\", \"tracks\": \"\", \"role\": \"\", \"resource_url\": \"http://api.discogs.com/artists/1777\", \"id\": 1777}], \"resource_url\": \"http://api.discogs.com/releases/225089\", \"year\": 1998, \"id\": 225089}, \"id\": 225089}, {\"instance_id\": 115159482, \"rating\": 0, \"basic_information\": {\"labels\": [{\"id\": 187858, \"resource_url\": \"http://api.discogs.com/labels/187858\", \"catno\": \"AD-011\", \"name\": \"Acoustic Division\", \"entity_type\": \"1\"}], \"formats\": [{\"descriptions\": [\"12\\\"\", \"33 \\u2153 RPM\", \"45 RPM\"], \"name\": \"Vinyl\", \"qty\": \"1\"}], \"thumb\": \"\", \"title\": \"Step Off\", \"artists\": [{\"join\": \"\", \"name\": \"Todd Osborn\", \"anv\": \"\", \"tracks\": \"\", \"role\": \"\", \"resource_url\": \"http://api.discogs.com/artists/38945\", \"id\": 38945}], \"resource_url\": \"http://api.discogs.com/releases/6066010\", \"year\": 2014, \"id\": 6066010}, \"id\": 6066010}, {\"instance_id\": 123427591, \"rating\": 0, \"basic_information\": {\"labels\": [{\"id\": 82394, \"resource_url\": \"http://api.discogs.com/labels/82394\", \"catno\": \"AES-009\", \"name\": \"Aesthetic Audio\", \"entity_type\": \"1\"}], \"formats\": [{\"descriptions\": [\"12\\\"\", \"33 \\u2153 RPM\"], \"name\": \"Vinyl\", \"qty\": \"1\"}], \"thumb\": \"\", \"title\": \"Moments In Rhythm Vol 2. (Sounds From Detroit)\", \"artists\": [{\"join\": \"\", \"name\": \"Keith Worthy\", \"anv\": \"\", \"tracks\": \"\", \"role\": \"\", \"resource_url\": \"http://api.discogs.com/artists/333817\", \"id\": 333817}], \"resource_url\": \"http://api.discogs.com/releases/2236668\", \"year\": 2010, \"id\": 2236668}, \"id\": 2236668}, {\"instance_id\": 115413688, \"rating\": 0, \"basic_information\": {\"labels\": [{\"id\": 82394, \"resource_url\": \"http://api.discogs.com/labels/82394\", \"catno\": \"AES-018\", \"name\": \"Aesthetic Audio\", \"entity_type\": \"1\"}], \"formats\": [{\"descriptions\": [\"12\\\"\", \"33 \\u2153 RPM\"], \"name\": \"Vinyl\", \"qty\": \"1\"}], \"thumb\": \"\", \"title\": \"The Unusual Suspects Vol 1\", \"artists\": [{\"join\": \"\", \"name\": \"Various\", \"anv\": \"\", \"tracks\": \"\", \"role\": \"\", \"resource_url\": \"http://api.discogs.com/artists/194\", \"id\": 194}], \"resource_url\": \"http://api.discogs.com/releases/5908110\", \"year\": 2014, \"id\": 5908110}, \"id\": 5908110}, {\"instance_id\": 118469921, \"rating\": 0, \"basic_information\": {\"labels\": [{\"id\": 82394, \"resource_url\": \"http://api.discogs.com/labels/82394\", \"catno\": \"AES-019\", \"name\": \"Aesthetic Audio\", \"entity_type\": \"1\"}], \"formats\": [{\"descriptions\": [\"12\\\"\", \"Album\"], \"name\": \"Vinyl\", \"qty\": \"2\"}], \"thumb\": \"\", \"title\": \"The Price Of Nonconformance\", \"artists\": [{\"join\": \"\", \"name\": \"Keith Worthy\", \"anv\": \"\", \"tracks\": \"\", \"role\": \"\", \"resource_url\": \"http://api.discogs.com/artists/333817\", \"id\": 333817}], \"resource_url\": \"http://api.discogs.com/releases/6345712\", \"year\": 2014, \"id\": 6345712}, \"id\": 6345712}, {\"instance_id\": 110828699, \"rating\": 0, \"basic_information\": {\"labels\": [{\"id\": 37570, \"resource_url\": \"http://api.discogs.com/labels/37570\", \"catno\": \"ALR-28003\", \"name\": \"Alfa\", \"entity_type\": \"1\"}], \"formats\": [{\"descriptions\": [\"LP\", \"Album\"], \"name\": \"Vinyl\", \"qty\": \"1\"}], \"thumb\": \"\", \"title\": \"B-2 Unit\", \"artists\": [{\"join\": \"\", \"name\": \"Ryuichi Sakamoto\", \"anv\": \"Riuichi Sakamoto\", \"tracks\": \"\", \"role\": \"\", \"resource_url\": \"http://api.discogs.com/artists/5087\", \"id\": 5087}], \"resource_url\": \"http://api.discogs.com/releases/319321\", \"year\": 1980, \"id\": 319321}, \"id\": 319321}, {\"instance_id\": 110726576, \"rating\": 0, \"basic_information\": {\"labels\": [{\"id\": 37570, \"resource_url\": \"http://api.discogs.com/labels/37570\", \"catno\": \"ALR-6022\", \"name\": \"Alfa\", \"entity_type\": \"1\"}], \"formats\": [{\"descriptions\": [\"LP\"], \"name\": \"Vinyl\", \"qty\": \"1\"}], \"thumb\": \"\", \"title\": \"Solid State Survivor\", \"artists\": [{\"join\": \"\", \"name\": \"Yellow Magic Orchestra\", \"anv\": \"\", \"tracks\": \"\", \"role\": \"\", \"resource_url\": \"http://api.discogs.com/artists/22061\", \"id\": 22061}], \"resource_url\": \"http://api.discogs.com/releases/359432\", \"year\": 1979, \"id\": 359432}, \"id\": 359432}, {\"instance_id\": 110922550, \"rating\": 0, \"basic_information\": {\"labels\": [{\"id\": 37570, \"resource_url\": \"http://api.discogs.com/labels/37570\", \"catno\": \"YMO-1\", \"name\": \"Alfa\", \"entity_type\": \"1\"}], \"formats\": [{\"descriptions\": [\"10\\\"\", \"33 \\u2153 RPM\", \"Mini-Album\"], \"name\": \"Vinyl\", \"qty\": \"1\"}], \"thumb\": \"\", \"title\": \"\\u5897\\u6b96  X\\u221eMultiplies\", \"artists\": [{\"join\": \"\", \"name\": \"Yellow Magic Orchestra\", \"anv\": \"\", \"tracks\": \"\", \"role\": \"\", \"resource_url\": \"http://api.discogs.com/artists/22061\", \"id\": 22061}], \"resource_url\": \"http://api.discogs.com/releases/376400\", \"year\": 1980, \"id\": 376400}, \"id\": 376400}, {\"instance_id\": 70879211, \"rating\": 0, \"basic_information\": {\"labels\": [{\"id\": 8184, \"resource_url\": \"http://api.discogs.com/labels/8184\", \"catno\": \"YLR-20002\", \"name\": \"Alfa Records, Inc\", \"entity_type\": \"1\"}], \"formats\": [{\"descriptions\": [\"LP\"], \"name\": \"Vinyl\", \"qty\": \"1\"}], \"thumb\": \"\", \"title\": \"Naughty Boys (Instrumental)\", \"artists\": [{\"join\": \"\", \"name\": \"Yellow Magic Orchestra\", \"anv\": \"Y.M.O.\", \"tracks\": \"\", \"role\": \"\", \"resource_url\": \"http://api.discogs.com/artists/22061\", \"id\": 22061}], \"resource_url\": \"http://api.discogs.com/releases/299668\", \"year\": 1983, \"id\": 299668}, \"id\": 299668}, {\"instance_id\": 70879424, \"rating\": 0, \"basic_information\": {\"labels\": [{\"id\": 53017, \"resource_url\": \"http://api.discogs.com/labels/53017\", \"catno\": \"ACKK 12X1\", \"name\": \"All City Records (3)\", \"entity_type\": \"1\"}], \"formats\": [{\"descriptions\": [\"12\\\"\", \"33 \\u2153 RPM\"], \"name\": \"Vinyl\", \"qty\": \"1\"}], \"thumb\": \"\", \"title\": \"Tried For Your Love\", \"artists\": [{\"join\": \"\", \"name\": \"Krystal Klear\", \"anv\": \"\", \"tracks\": \"\", \"role\": \"\", \"resource_url\": \"http://api.discogs.com/artists/1749060\", \"id\": 1749060}], \"resource_url\": \"http://api.discogs.com/releases/2594428\", \"year\": 2010, \"id\": 2594428}, \"id\": 2594428}, {\"instance_id\": 70879560, \"rating\": 0, \"basic_information\": {\"labels\": [{\"id\": 1488, \"resource_url\": \"http://api.discogs.com/labels/1488\", \"catno\": \"ML 9009 \", \"name\": \"Alleviated Records\", \"entity_type\": \"1\"}], \"formats\": [{\"descriptions\": [\"LP\", \"Reissue\", \"Remastered\"], \"name\": \"Vinyl\", \"qty\": \"2\"}], \"thumb\": \"\", \"title\": \"Alien\", \"artists\": [{\"join\": \"\", \"name\": \"Larry Heard\", \"anv\": \"\", \"tracks\": \"\", \"role\": \"\", \"resource_url\": \"http://api.discogs.com/artists/148\", \"id\": 148}], \"resource_url\": \"http://api.discogs.com/releases/5592574\", \"year\": 2014, \"id\": 5592574}, \"id\": 5592574}, {\"instance_id\": 113844520, \"rating\": 0, \"basic_information\": {\"labels\": [{\"id\": 1488, \"resource_url\": \"http://api.discogs.com/labels/1488\", \"catno\": \"ML-2206\", \"name\": \"Alleviated Records\", \"entity_type\": \"1\"}], \"formats\": [{\"descriptions\": [\"12\\\"\", \"33 \\u2153 RPM\", \"Reissue\", \"Remastered\"], \"name\": \"Vinyl\", \"qty\": \"1\"}], \"thumb\": \"\", \"title\": \"Slam Dance\", \"artists\": [{\"join\": \"\", \"name\": \"Mr. Fingers\", \"anv\": \"Mr.Fingers\", \"tracks\": \"\", \"role\": \"\", \"resource_url\": \"http://api.discogs.com/artists/2446\", \"id\": 2446}], \"resource_url\": \"http://api.discogs.com/releases/2111289\", \"year\": 2010, \"id\": 2111289}, \"id\": 2111289}, {\"instance_id\": 112546562, \"rating\": 0, \"basic_information\": {\"labels\": [{\"id\": 1488, \"resource_url\": \"http://api.discogs.com/labels/1488\", \"catno\": \"ML-2221\", \"name\": \"Alleviated Records\", \"entity_type\": \"1\"}], \"formats\": [{\"descriptions\": [\"12\\\"\", \"33 \\u2153 RPM\", \"Reissue\"], \"name\": \"Vinyl\", \"qty\": \"1\"}], \"thumb\": \"\", \"title\": \"Glancing At The Moon\", \"artists\": [{\"join\": \"\", \"name\": \"Loosefingers\", \"anv\": \"\", \"tracks\": \"\", \"role\": \"\", \"resource_url\": \"http://api.discogs.com/artists/216152\", \"id\": 216152}], \"resource_url\": \"http://api.discogs.com/releases/5841729\", \"year\": 2014, \"id\": 5841729}, \"id\": 5841729}, {\"instance_id\": 112543392, \"rating\": 0, \"basic_information\": {\"labels\": [{\"id\": 1488, \"resource_url\": \"http://api.discogs.com/labels/1488\", \"catno\": \"ML-2222\", \"name\": \"Alleviated Records\", \"entity_type\": \"1\"}], \"formats\": [{\"descriptions\": [\"12\\\"\", \"33 \\u2153 RPM\", \"Reissue\"], \"name\": \"Vinyl\", \"qty\": \"1\"}], \"thumb\": \"\", \"title\": \"When Summer Comes\", \"artists\": [{\"join\": \"\", \"name\": \"Loosefingers\", \"anv\": \"\", \"tracks\": \"\", \"role\": \"\", \"resource_url\": \"http://api.discogs.com/artists/216152\", \"id\": 216152}], \"resource_url\": \"http://api.discogs.com/releases/5841720\", \"year\": 2014, \"id\": 5841720}, \"id\": 5841720}, {\"instance_id\": 135839823, \"rating\": 0, \"basic_information\": {\"labels\": [{\"id\": 1488, \"resource_url\": \"http://api.discogs.com/labels/1488\", \"catno\": \"ML-2225\", \"name\": \"Alleviated Records\", \"entity_type\": \"1\"}], \"formats\": [{\"descriptions\": [\"12\\\"\", \"33 \\u2153 RPM\", \"Reissue\"], \"name\": \"Vinyl\", \"qty\": \"1\"}], \"thumb\": \"\", \"title\": \"You Rock Me / The Sun Can't Compare\", \"artists\": [{\"join\": \"Presents:\", \"name\": \"Larry Heard\", \"anv\": \"\", \"tracks\": \"\", \"role\": \"\", \"resource_url\": \"http://api.discogs.com/artists/148\", \"id\": 148}, {\"join\": \"\", \"name\": \"Chad White\", \"anv\": \"Mr. White\", \"tracks\": \"\", \"role\": \"\", \"resource_url\": \"http://api.discogs.com/artists/739771\", \"id\": 739771}], \"resource_url\": \"http://api.discogs.com/releases/4253186\", \"year\": 2013, \"id\": 4253186}, \"id\": 4253186}, {\"instance_id\": 128691451, \"rating\": 0, \"basic_information\": {\"labels\": [{\"id\": 1488, \"resource_url\": \"http://api.discogs.com/labels/1488\", \"catno\": \"ML-2229\", \"name\": \"Alleviated Records\", \"entity_type\": \"1\"}], \"formats\": [{\"descriptions\": [\"12\\\"\", \"33 \\u2153 RPM\", \"EP\"], \"name\": \"Vinyl\", \"qty\": \"1\"}], \"thumb\": \"\", \"title\": \"The It EP\", \"artists\": [{\"join\": \"\", \"name\": \"It, The\", \"anv\": \"\", \"tracks\": \"\", \"role\": \"\", \"resource_url\": \"http://api.discogs.com/artists/17769\", \"id\": 17769}], \"resource_url\": \"http://api.discogs.com/releases/6185397\", \"year\": 2014, \"id\": 6185397}, \"id\": 6185397}, {\"instance_id\": 70879429, \"rating\": 0, \"basic_information\": {\"labels\": [{\"id\": 1488, \"resource_url\": \"http://api.discogs.com/labels/1488\", \"catno\": \"ML-9002\", \"name\": \"Alleviated Records\", \"entity_type\": \"1\"}], \"formats\": [{\"descriptions\": [\"12\\\"\", \"45 RPM\", \"Reissue\", \"Remastered\"], \"name\": \"Vinyl\", \"qty\": \"1\"}], \"thumb\": \"\", \"title\": \"Washing Machine / Can You Feel It\", \"artists\": [{\"join\": \"\", \"name\": \"Mr. Fingers\", \"anv\": \"\", \"tracks\": \"\", \"role\": \"\", \"resource_url\": \"http://api.discogs.com/artists/2446\", \"id\": 2446}], \"resource_url\": \"http://api.discogs.com/releases/2707010\", \"year\": 2011, \"id\": 2707010}, \"id\": 2707010}, {\"instance_id\": 126900906, \"rating\": 0, \"basic_information\": {\"labels\": [{\"id\": 683, \"resource_url\": \"http://api.discogs.com/labels/683\", \"catno\": \"APOLLO III\", \"name\": \"Apollo\", \"entity_type\": \"1\"}], \"formats\": [{\"descriptions\": [\"12\\\"\", \"Reissue\", \"Remastered\"], \"name\": \"Vinyl\", \"qty\": \"1\"}], \"thumb\": \"\", \"title\": \"The Passage\", \"artists\": [{\"join\": \"\", \"name\": \"Model 500\", \"anv\": \"\", \"tracks\": \"\", \"role\": \"\", \"resource_url\": \"http://api.discogs.com/artists/1141\", \"id\": 1141}], \"resource_url\": \"http://api.discogs.com/releases/6369444\", \"year\": 2014, \"id\": 6369444}, \"id\": 6369444}, {\"instance_id\": 70879405, \"rating\": 0, \"basic_information\": {\"labels\": [{\"id\": 59880, \"resource_url\": \"http://api.discogs.com/labels/59880\", \"catno\": \"ADI-735\", \"name\": \"April Records (3)\", \"entity_type\": \"1\"}], \"formats\": [{\"descriptions\": [\"LP\", \"Album\", \"Repress\"], \"name\": \"Vinyl\", \"qty\": \"1\"}], \"thumb\": \"\", \"title\": \"Africa Stand Alone\", \"artists\": [{\"join\": \"\", \"name\": \"Culture\", \"anv\": \"\", \"tracks\": \"\", \"role\": \"\", \"resource_url\": \"http://api.discogs.com/artists/64683\", \"id\": 64683}], \"resource_url\": \"http://api.discogs.com/releases/2369199\", \"year\": 0, \"id\": 2369199}, \"id\": 2369199}, {\"instance_id\": 70879390, \"rating\": 0, \"basic_information\": {\"labels\": [{\"id\": 61010, \"resource_url\": \"http://api.discogs.com/labels/61010\", \"catno\": \"FC 37616\", \"name\": \"ARC (3)\", \"entity_type\": \"1\"}, {\"id\": 1866, \"resource_url\": \"http://api.discogs.com/labels/1866\", \"catno\": \"FC 37616\", \"name\": \"Columbia\", \"entity_type\": \"1\"}], \"formats\": [{\"descriptions\": [\"LP\", \"Album\"], \"name\": \"Vinyl\", \"qty\": \"1\"}], \"thumb\": \"\", \"title\": \"Weather Report\", \"artists\": [{\"join\": \"\", \"name\": \"Weather Report\", \"anv\": \"\", \"tracks\": \"\", \"role\": \"\", \"resource_url\": \"http://api.discogs.com/artists/10082\", \"id\": 10082}], \"resource_url\": \"http://api.discogs.com/releases/2156437\", \"year\": 1982, \"id\": 2156437}, \"id\": 2156437}, {\"instance_id\": 70879345, \"rating\": 0, \"basic_information\": {\"labels\": [{\"id\": 61010, \"resource_url\": \"http://api.discogs.com/labels/61010\", \"catno\": \"JC 35358\", \"name\": \"ARC (3)\", \"entity_type\": \"1\"}, {\"id\": 1866, \"resource_url\": \"http://api.discogs.com/labels/1866\", \"catno\": \"JC 35358\", \"name\": \"Columbia\", \"entity_type\": \"1\"}], \"formats\": [{\"descriptions\": [\"LP\", \"Album\"], \"name\": \"Vinyl\", \"qty\": \"1\"}], \"thumb\": \"\", \"title\": \"Mr. Gone\", \"artists\": [{\"join\": \",\", \"name\": \"Weather Report\", \"anv\": \"\", \"tracks\": \"\", \"role\": \"\", \"resource_url\": \"http://api.discogs.com/artists/10082\", \"id\": 10082}], \"resource_url\": \"http://api.discogs.com/releases/1516462\", \"year\": 1978, \"id\": 1516462}, \"id\": 1516462}, {\"instance_id\": 70879479, \"rating\": 0, \"basic_information\": {\"labels\": [{\"id\": 89289, \"resource_url\": \"http://api.discogs.com/labels/89289\", \"catno\": \"2533 440\", \"name\": \"Archiv Produktion\", \"entity_type\": \"1\"}], \"formats\": [{\"descriptions\": [\"LP\"], \"name\": \"Vinyl\", \"qty\": \"1\"}], \"thumb\": \"\", \"title\": \"Overture BWV 1069 - Brandenburg Concerto No. 5, BWV 1050\", \"artists\": [{\"join\": \"Performed By\", \"name\": \"Johann Sebastian Bach\", \"anv\": \"\", \"tracks\": \"\", \"role\": \"\", \"resource_url\": \"http://api.discogs.com/artists/95537\", \"id\": 95537}, {\"join\": \"With\", \"name\": \"English Concert\", \"anv\": \"\", \"tracks\": \"\", \"role\": \"\", \"resource_url\": \"http://api.discogs.com/artists/837589\", \"id\": 837589}, {\"join\": \"\", \"name\": \"Trevor Pinnock\", \"anv\": \"\", \"tracks\": \"\", \"role\": \"\", \"resource_url\": \"http://api.discogs.com/artists/837588\", \"id\": 837588}], \"resource_url\": \"http://api.discogs.com/releases/3654023\", \"year\": 1980, \"id\": 3654023}, \"id\": 3654023}, {\"instance_id\": 70879439, \"rating\": 0, \"basic_information\": {\"labels\": [{\"id\": 89289, \"resource_url\": \"http://api.discogs.com/labels/89289\", \"catno\": \"2723 017\", \"name\": \"Archiv Produktion\", \"entity_type\": \"1\"}], \"formats\": [{\"descriptions\": [\"LP\", \"Album\"], \"name\": \"Vinyl\", \"qty\": \"2\"}], \"thumb\": \"\", \"title\": \"Java - Gamelans From The Sultan's Palace In Jogjakarta\", \"artists\": [{\"join\": \"\", \"name\": \"Jacques Brunet\", \"anv\": \"\", \"tracks\": \"\", \"role\": \"\", \"resource_url\": \"http://api.discogs.com/artists/930453\", \"id\": 930453}], \"resource_url\": \"http://api.discogs.com/releases/2797407\", \"year\": 1973, \"id\": 2797407}, \"id\": 2797407}, {\"instance_id\": 126815789, \"rating\": 0, \"basic_information\": {\"labels\": [{\"id\": 3769, \"resource_url\": \"http://api.discogs.com/labels/3769\", \"catno\": \"AREAL 33\", \"name\": \"Areal Records\", \"entity_type\": \"1\"}], \"formats\": [{\"descriptions\": [\"LP\", \"Album\"], \"name\": \"Vinyl\", \"qty\": \"2\"}], \"thumb\": \"\", \"title\": \"Kobol\", \"artists\": [{\"join\": \"\", \"name\": \"Metope\", \"anv\": \"\", \"tracks\": \"\", \"role\": \"\", \"resource_url\": \"http://api.discogs.com/artists/18763\", \"id\": 18763}], \"resource_url\": \"http://api.discogs.com/releases/508305\", \"year\": 2005, \"id\": 508305}, \"id\": 508305}, {\"instance_id\": 70879065, \"rating\": 0, \"basic_information\": {\"labels\": [{\"id\": 3769, \"resource_url\": \"http://api.discogs.com/labels/3769\", \"catno\": \"Areal010\", \"name\": \"Areal Records\", \"entity_type\": \"1\"}], \"formats\": [{\"descriptions\": [\"12\\\"\"], \"name\": \"Vinyl\", \"qty\": \"1\"}], \"thumb\": \"\", \"title\": \"Blindhouse / Luckycharm\", \"artists\": [{\"join\": \"\", \"name\": \"Ada\", \"anv\": \"\", \"tracks\": \"\", \"role\": \"\", \"resource_url\": \"http://api.discogs.com/artists/28297\", \"id\": 28297}], \"resource_url\": \"http://api.discogs.com/releases/69767\", \"year\": 2002, \"id\": 69767}, \"id\": 69767}, {\"instance_id\": 70879186, \"rating\": 0, \"basic_information\": {\"labels\": [{\"id\": 3769, \"resource_url\": \"http://api.discogs.com/labels/3769\", \"catno\": \"Areal018\", \"name\": \"Areal Records\", \"entity_type\": \"1\"}], \"formats\": [{\"descriptions\": [\"12\\\"\"], \"name\": \"Vinyl\", \"qty\": \"1\"}], \"thumb\": \"\", \"title\": \"Gleit/Zeit\", \"artists\": [{\"join\": \"\", \"name\": \"Undo/Redo\", \"anv\": \"\", \"tracks\": \"\", \"role\": \"\", \"resource_url\": \"http://api.discogs.com/artists/18762\", \"id\": 18762}], \"resource_url\": \"http://api.discogs.com/releases/224377\", \"year\": 2003, \"id\": 224377}, \"id\": 224377}, {\"instance_id\": 70879238, \"rating\": 5, \"basic_information\": {\"labels\": [{\"id\": 3769, \"resource_url\": \"http://api.discogs.com/labels/3769\", \"catno\": \"Areal029\", \"name\": \"Areal Records\", \"entity_type\": \"1\"}], \"formats\": [{\"descriptions\": [\"12\\\"\"], \"name\": \"Vinyl\", \"qty\": \"1\"}], \"thumb\": \"\", \"title\": \"Blondix 1\", \"artists\": [{\"join\": \"\", \"name\": \"Ada\", \"anv\": \"\", \"tracks\": \"\", \"role\": \"\", \"resource_url\": \"http://api.discogs.com/artists/28297\", \"id\": 28297}], \"resource_url\": \"http://api.discogs.com/releases/442245\", \"year\": 2005, \"id\": 442245}, \"id\": 442245}, {\"instance_id\": 70879254, \"rating\": 0, \"basic_information\": {\"labels\": [{\"id\": 3769, \"resource_url\": \"http://api.discogs.com/labels/3769\", \"catno\": \"Areal034\", \"name\": \"Areal Records\", \"entity_type\": \"1\"}], \"formats\": [{\"descriptions\": [\"12\\\"\"], \"name\": \"Vinyl\", \"qty\": \"1\"}], \"thumb\": \"\", \"title\": \"I Love Asphalt\", \"artists\": [{\"join\": \"\", \"name\": \"Ada\", \"anv\": \"\", \"tracks\": \"\", \"role\": \"\", \"resource_url\": \"http://api.discogs.com/artists/28297\", \"id\": 28297}], \"resource_url\": \"http://api.discogs.com/releases/543787\", \"year\": 2005, \"id\": 543787}, \"id\": 543787}, {\"instance_id\": 70879273, \"rating\": 0, \"basic_information\": {\"labels\": [{\"id\": 3769, \"resource_url\": \"http://api.discogs.com/labels/3769\", \"catno\": \"Areal037\", \"name\": \"Areal Records\", \"entity_type\": \"1\"}], \"formats\": [{\"descriptions\": [\"12\\\"\"], \"name\": \"Vinyl\", \"qty\": \"1\"}], \"thumb\": \"\", \"title\": \"Meteorchester\", \"artists\": [{\"join\": \"\", \"name\": \"Basteroid\", \"anv\": \"\", \"tracks\": \"\", \"role\": \"\", \"resource_url\": \"http://api.discogs.com/artists/18761\", \"id\": 18761}], \"resource_url\": \"http://api.discogs.com/releases/704195\", \"year\": 2006, \"id\": 704195}, \"id\": 704195}]}"
   ]
  },
  {
   "cell_type": "code",
   "execution_count": 2,
   "metadata": {
    "collapsed": false
   },
   "outputs": [
    {
     "ename": "NameError",
     "evalue": "name 'test' is not defined",
     "output_type": "error",
     "traceback": [
      "\u001b[0;31m---------------------------------------------------------------------------\u001b[0m",
      "\u001b[0;31mNameError\u001b[0m                                 Traceback (most recent call last)",
      "\u001b[0;32m<ipython-input-2-b40465f054b4>\u001b[0m in \u001b[0;36m<module>\u001b[0;34m()\u001b[0m\n\u001b[0;32m----> 1\u001b[0;31m \u001b[0mtest\u001b[0m\u001b[0;34m.\u001b[0m\u001b[0mkeys\u001b[0m\u001b[0;34m(\u001b[0m\u001b[0;34m)\u001b[0m\u001b[0;34m\u001b[0m\u001b[0m\n\u001b[0m",
      "\u001b[0;31mNameError\u001b[0m: name 'test' is not defined"
     ]
    }
   ],
   "source": [
    "test.keys()"
   ]
  },
  {
   "cell_type": "code",
   "execution_count": null,
   "metadata": {
    "collapsed": true
   },
   "outputs": [],
   "source": [
    "for release in test[\"releases\"]:\n",
    "    print release[\"resource_url\"]"
   ]
  }
 ],
 "metadata": {
  "kernelspec": {
   "display_name": "Python 2",
   "language": "python",
   "name": "python2"
  },
  "language_info": {
   "codemirror_mode": {
    "name": "ipython",
    "version": 2
   },
   "file_extension": ".py",
   "mimetype": "text/x-python",
   "name": "python",
   "nbconvert_exporter": "python",
   "pygments_lexer": "ipython2",
   "version": "2.7.1"
  }
 },
 "nbformat": 4,
 "nbformat_minor": 0
}
