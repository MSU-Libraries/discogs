{
 "cells": [
  {
   "cell_type": "markdown",
   "metadata": {},
   "source": [
    "Discogs Code \n",
    "------------"
   ]
  },
  {
   "cell_type": "markdown",
   "metadata": {},
   "source": [
    "Code for grabbing all releases from a given collection and storing them as `XML`."
   ]
  },
  {
   "cell_type": "code",
   "execution_count": null,
   "metadata": {
    "collapsed": false
   },
   "outputs": [],
   "source": [
    "goldenrod_id = \"786622\"\n",
    "lockwood_id = \"773753\"\n",
    "from discogs import DiscogsData\n",
    "dd = DiscogsData()\n",
    "dd.return_xml_releases(username=\"MSULibraries\", folder_id=goldenrod_id, output_path=\"goldenrod/\")\n",
    "# Important note! This code has generated SSL errors for me when run through iPython (python 2.7.10), but works\n",
    "# flawlessly when run through generic python 2.7.9."
   ]
  },
  {
   "cell_type": "markdown",
   "metadata": {},
   "source": [
    "Code to grab style data from all releases from a certain user (\"MSULibraries\") and store the result as a gephi-ready `XML` file."
   ]
  },
  {
   "cell_type": "code",
   "execution_count": null,
   "metadata": {
    "collapsed": true
   },
   "outputs": [],
   "source": [
    "from discogs import DiscogsData\n",
    "dd = DiscogsData()\n",
    "data = dd.CollectionStyleGraph(username=\"MSULibraries\", folder_id=\"0\")\n",
    "dd.GraphOutput(\"gephi\", output_path=\"output/msul\")"
   ]
  },
  {
   "cell_type": "markdown",
   "metadata": {},
   "source": [
    "Code that allows user collections to be compared -- full collections should already be downloaded (or the code will take quite a while to run.)"
   ]
  },
  {
   "cell_type": "code",
   "execution_count": null,
   "metadata": {
    "collapsed": false
   },
   "outputs": [],
   "source": [
    "from discogs import DiscogsData\n",
    "dd = DiscogsData()\n",
    "dd.compare_users([\"bartonjp\", \"aaroncollie\"])"
   ]
  },
  {
   "cell_type": "markdown",
   "metadata": {},
   "source": [
    "Code to check individual release files for style and genre information."
   ]
  },
  {
   "cell_type": "code",
   "execution_count": null,
   "metadata": {
    "collapsed": false
   },
   "outputs": [],
   "source": [
    "import os\n",
    "import json\n",
    "from collections import Counter\n",
    "import operator\n",
    "source_dir = \"msulibraries\"\n",
    "file_paths = [os.path.join(source_dir, f) for f in os.listdir(source_dir) if f.endswith(\".json\")]\n",
    "genres_tally = []\n",
    "styles_tally = []\n",
    "for path in file_paths:\n",
    "    release = json.load(open(path))\n",
    "    if \"styles\" in release:\n",
    "        styles = release[\"styles\"]\n",
    "        for style in styles:\n",
    "            styles_tally.append(style)\n",
    "        \n",
    "    genres = release[\"genres\"]\n",
    "    for genre in genres:\n",
    "        genres_tally.append(genre)\n",
    "        \n",
    "style_counter = Counter(styles_tally)\n",
    "genre_counter = Counter(genres_tally)\n",
    "for style, count in sorted(style_counter.items(), key=operator.itemgetter(1), reverse=True):\n",
    "    print \"{0}: {1}\".format(style.encode(\"utf-8\"), count)\n",
    "for genre, count in sorted(genre_counter.items(), key=operator.itemgetter(1), reverse=True):\n",
    "    print \"{0}: {1}\".format(genre.encode(\"utf-8\"), count)"
   ]
  },
  {
   "cell_type": "code",
   "execution_count": null,
   "metadata": {
    "collapsed": true
   },
   "outputs": [],
   "source": [
    "import json\n",
    "import os\n",
    "source_dir = \"msulibraries/\"\n",
    "collection = []\n",
    "source_files = (os.path.join(source_dir, j) for j in os.listdir(source_dir) if j.endswith(\".json\"))\n",
    "for jfile in source_files:\n",
    "    with open(jfile) as json_file:\n",
    "        collection.append(json.load(json_file))"
   ]
  },
  {
   "cell_type": "code",
   "execution_count": null,
   "metadata": {
    "collapsed": false
   },
   "outputs": [],
   "source": [
    "with open(\"output/full_collections/msulibraries_collection.json\", \"w\") as f:\n",
    "    json.dump(collection,f)\n"
   ]
  },
  {
   "cell_type": "markdown",
   "metadata": {},
   "source": [
    "Create graph data for `d3` output."
   ]
  },
  {
   "cell_type": "code",
   "execution_count": null,
   "metadata": {
    "collapsed": false
   },
   "outputs": [],
   "source": [
    "from discogs import DiscogsData\n",
    "dd = DiscogsData(path_to_data=\"output/full_collections/msulibraries_collection.json\")\n",
    "dd.graph_cooccurrence_data()"
   ]
  },
  {
   "cell_type": "code",
   "execution_count": null,
   "metadata": {
    "collapsed": false
   },
   "outputs": [],
   "source": [
    "for a,b in dd.graph.edges():\n",
    "    print a, \"----\", b, dd.graph.edge[a][b][\"weight\"]"
   ]
  },
  {
   "cell_type": "markdown",
   "metadata": {},
   "source": [
    "Store graph data as `json` file that should work without further edits within `index.html`."
   ]
  },
  {
   "cell_type": "code",
   "execution_count": null,
   "metadata": {
    "collapsed": false
   },
   "outputs": [],
   "source": [
    "dd.graph_output(\"d3\", \"discogs_style_graph\")"
   ]
  },
  {
   "cell_type": "code",
   "execution_count": null,
   "metadata": {
    "collapsed": false
   },
   "outputs": [],
   "source": [
    "for release in test[\"releases\"]:\n",
    "    print release\n",
    "    print \"Release ID: {0}\".format(release[\"id\"])\n",
    "    print release[\"master_id\"]"
   ]
  },
  {
   "cell_type": "code",
   "execution_count": null,
   "metadata": {
    "collapsed": false
   },
   "outputs": [],
   "source": [
    "import json\n",
    "with open(\"../discogs-graph/discogs_style_graph.json\") as f:\n",
    "    data = json.load(f)"
   ]
  },
  {
   "cell_type": "code",
   "execution_count": null,
   "metadata": {
    "collapsed": false
   },
   "outputs": [],
   "source": [
    "from pprint import pprint\n",
    "pprint(data[\"links\"])"
   ]
  },
  {
   "cell_type": "code",
   "execution_count": null,
   "metadata": {
    "collapsed": true
   },
   "outputs": [],
   "source": [
    "test = {\"pagination\": {\"per_page\": 50, \"items\": 813, \"page\": 1, \"urls\": {\"last\": \"http://api.discogs.com/users/devdev/collection/folders/0/releases?per_page=50&page=17\", \"next\": \"http://api.discogs.com/users/devdev/collection/folders/0/releases?per_page=50&page=2\"}, \"pages\": 17}, \"releases\": [{\"instance_id\": 70879044, \"rating\": 0, \"basic_information\": {\"labels\": [{\"id\": 902, \"resource_url\": \"http://api.discogs.com/labels/902\", \"catno\": \"DIXG 75\", \"name\": \"10 Records\", \"entity_type\": \"1\"}], \"formats\": [{\"descriptions\": [\"LP\", \"Compilation\"], \"name\": \"Vinyl\", \"qty\": \"2\"}], \"thumb\": \"\", \"title\": \"Techno! The New Dance Sound Of Detroit\", \"artists\": [{\"join\": \"\", \"name\": \"Various\", \"anv\": \"\", \"tracks\": \"\", \"role\": \"\", \"resource_url\": \"http://api.discogs.com/artists/194\", \"id\": 194}], \"resource_url\": \"http://api.discogs.com/releases/57919\", \"year\": 1988, \"id\": 57919}, \"id\": 57919}, {\"instance_id\": 70879271, \"rating\": 0, \"basic_information\": {\"labels\": [{\"id\": 902, \"resource_url\": \"http://api.discogs.com/labels/902\", \"catno\": \"VSX 1507\", \"name\": \"10 Records\", \"entity_type\": \"1\"}], \"formats\": [{\"descriptions\": [\"12\\\"\", \"33 \\u2153 RPM\", \"Maxi-Single\"], \"name\": \"Vinyl\", \"qty\": \"1\"}], \"thumb\": \"\", \"title\": \"Do You Love What You Feel\", \"artists\": [{\"join\": \"\", \"name\": \"Inner City\", \"anv\": \"\", \"tracks\": \"\", \"role\": \"\", \"resource_url\": \"http://api.discogs.com/artists/3868\", \"id\": 3868}], \"resource_url\": \"http://api.discogs.com/releases/681641\", \"year\": 1989, \"id\": 681641}, \"id\": 681641}, {\"instance_id\": 70879480, \"rating\": 0, \"basic_information\": {\"labels\": [{\"id\": 1261, \"resource_url\": \"http://api.discogs.com/labels/1261\", \"catno\": \"PURE LP011\", \"name\": \"100% Pure\", \"entity_type\": \"1\"}], \"formats\": [{\"descriptions\": [\"12\\\"\", \"Album\", \"Remastered\", \"33 \\u2153 RPM\", \"45 RPM\"], \"name\": \"Vinyl\", \"qty\": \"2\"}], \"thumb\": \"\", \"title\": \"Secret Life Of Machines (Remastered)\", \"artists\": [{\"join\": \"AKA\", \"name\": \"Sterac\", \"anv\": \"\", \"tracks\": \"\", \"role\": \"\", \"resource_url\": \"http://api.discogs.com/artists/1174\", \"id\": 1174}, {\"join\": \"\", \"name\": \"Steve Rachmad\", \"anv\": \"\", \"tracks\": \"\", \"role\": \"\", \"resource_url\": \"http://api.discogs.com/artists/1617\", \"id\": 1617}], \"resource_url\": \"http://api.discogs.com/releases/3665517\", \"year\": 2012, \"id\": 3665517}, \"id\": 3665517}, {\"instance_id\": 70879487, \"rating\": 0, \"basic_information\": {\"labels\": [{\"id\": 283751, \"resource_url\": \"http://api.discogs.com/labels/283751\", \"catno\": \"if13\", \"name\": \"1972\", \"entity_type\": \"1\"}], \"formats\": [{\"descriptions\": [\"LP\", \"Album\", \"Reissue\"], \"name\": \"Vinyl\", \"qty\": \"1\"}], \"thumb\": \"\", \"title\": \"Richard D. James Album\", \"artists\": [{\"join\": \"\", \"name\": \"Aphex Twin\", \"anv\": \"\", \"tracks\": \"\", \"role\": \"\", \"resource_url\": \"http://api.discogs.com/artists/45\", \"id\": 45}], \"resource_url\": \"http://api.discogs.com/releases/3908906\", \"year\": 2012, \"id\": 3908906}, \"id\": 3908906}, {\"instance_id\": 70879466, \"rating\": 5, \"basic_information\": {\"labels\": [{\"id\": 634, \"resource_url\": \"http://api.discogs.com/labels/634\", \"catno\": \"CAD3208\", \"name\": \"4AD\", \"entity_type\": \"1\"}], \"formats\": [{\"descriptions\": [\"LP\", \"Album\"], \"name\": \"Vinyl\", \"qty\": \"1\"}], \"thumb\": \"\", \"title\": \"Visions\", \"artists\": [{\"join\": \"\", \"name\": \"Grimes (4)\", \"anv\": \"\", \"tracks\": \"\", \"role\": \"\", \"resource_url\": \"http://api.discogs.com/artists/1993487\", \"id\": 1993487}], \"resource_url\": \"http://api.discogs.com/releases/3419668\", \"year\": 2012, \"id\": 3419668}, \"id\": 3419668}, {\"instance_id\": 70879099, \"rating\": 0, \"basic_information\": {\"labels\": [{\"id\": 158452, \"resource_url\": \"http://api.discogs.com/labels/158452\", \"catno\": \"12 BRW 348\", \"name\": \"4th & Broadway\", \"entity_type\": \"1\"}, {\"id\": 158452, \"resource_url\": \"http://api.discogs.com/labels/158452\", \"catno\": \"854 935-1\", \"name\": \"4th & Broadway\", \"entity_type\": \"1\"}], \"formats\": [{\"descriptions\": [\"12\\\"\", \"Limited Edition\"], \"text\": \"Clear\", \"name\": \"Vinyl\", \"qty\": \"1\"}], \"thumb\": \"\", \"title\": \"Makes Me Wanna Die\", \"artists\": [{\"join\": \",\", \"name\": \"Tricky\", \"anv\": \"\", \"tracks\": \"\", \"role\": \"\", \"resource_url\": \"http://api.discogs.com/artists/3140\", \"id\": 3140}], \"resource_url\": \"http://api.discogs.com/releases/103013\", \"year\": 1997, \"id\": 103013}, \"id\": 103013}, {\"instance_id\": 70879444, \"rating\": 0, \"basic_information\": {\"labels\": [{\"id\": 245458, \"resource_url\": \"http://api.discogs.com/labels/245458\", \"catno\": \"1002\", \"name\": \"7 Days Ent.\", \"entity_type\": \"1\"}], \"formats\": [{\"descriptions\": [\"12\\\"\", \"33 \\u2153 RPM\"], \"name\": \"Vinyl\", \"qty\": \"1\"}], \"thumb\": \"\", \"title\": \"Detroit Heat\", \"artists\": [{\"join\": \"\", \"name\": \"Big Strick\", \"anv\": \"\", \"tracks\": \"\", \"role\": \"\", \"resource_url\": \"http://api.discogs.com/artists/1156160\", \"id\": 1156160}], \"resource_url\": \"http://api.discogs.com/releases/2917910\", \"year\": 2011, \"id\": 2917910}, \"id\": 2917910}, {\"instance_id\": 114877627, \"rating\": 0, \"basic_information\": {\"labels\": [{\"id\": 245458, \"resource_url\": \"http://api.discogs.com/labels/245458\", \"catno\": \"1008\", \"name\": \"7 Days Ent.\", \"entity_type\": \"1\"}], \"formats\": [{\"descriptions\": [\"12\\\"\"], \"name\": \"Vinyl\", \"qty\": \"1\"}], \"thumb\": \"\", \"title\": \"Groove\", \"artists\": [{\"join\": \"\", \"name\": \"Big Strick\", \"anv\": \"\", \"tracks\": \"\", \"role\": \"\", \"resource_url\": \"http://api.discogs.com/artists/1156160\", \"id\": 1156160}], \"resource_url\": \"http://api.discogs.com/releases/4602287\", \"year\": 2013, \"id\": 4602287}, \"id\": 4602287}, {\"instance_id\": 70879542, \"rating\": 0, \"basic_information\": {\"labels\": [{\"id\": 245458, \"resource_url\": \"http://api.discogs.com/labels/245458\", \"catno\": \"1009\", \"name\": \"7 Days Ent.\", \"entity_type\": \"1\"}], \"formats\": [{\"descriptions\": [\"12\\\"\"], \"name\": \"Vinyl\", \"qty\": \"1\"}], \"thumb\": \"\", \"title\": \"Like Father, Like Son\", \"artists\": [{\"join\": \"/\", \"name\": \"Big Strick\", \"anv\": \"\", \"tracks\": \"\", \"role\": \"\", \"resource_url\": \"http://api.discogs.com/artists/1156160\", \"id\": 1156160}, {\"join\": \"\", \"name\": \"Generation Next (2)\", \"anv\": \"\", \"tracks\": \"\", \"role\": \"\", \"resource_url\": \"http://api.discogs.com/artists/3016794\", \"id\": 3016794}], \"resource_url\": \"http://api.discogs.com/releases/5113722\", \"year\": 2013, \"id\": 5113722}, \"id\": 5113722}, {\"instance_id\": 70879569, \"rating\": 0, \"basic_information\": {\"labels\": [{\"id\": 245458, \"resource_url\": \"http://api.discogs.com/labels/245458\", \"catno\": \"1011\", \"name\": \"7 Days Ent.\", \"entity_type\": \"1\"}], \"formats\": [{\"descriptions\": [\"LP\"], \"name\": \"Vinyl\", \"qty\": \"2\"}], \"thumb\": \"\", \"title\": \"Like Father, Like Son\", \"artists\": [{\"join\": \"/\", \"name\": \"Generation Next (2)\", \"anv\": \"\", \"tracks\": \"\", \"role\": \"\", \"resource_url\": \"http://api.discogs.com/artists/3016794\", \"id\": 3016794}, {\"join\": \",\", \"name\": \"Big Strick\", \"anv\": \"\", \"tracks\": \"\", \"role\": \"\", \"resource_url\": \"http://api.discogs.com/artists/1156160\", \"id\": 1156160}], \"resource_url\": \"http://api.discogs.com/releases/5803628\", \"year\": 2014, \"id\": 5803628}, \"id\": 5803628}, {\"instance_id\": 128666250, \"rating\": 0, \"basic_information\": {\"labels\": [{\"id\": 245458, \"resource_url\": \"http://api.discogs.com/labels/245458\", \"catno\": \"1012\", \"name\": \"7 Days Ent.\", \"entity_type\": \"1\"}], \"formats\": [{\"descriptions\": [\"12\\\"\", \"33 \\u2153 RPM\"], \"name\": \"Vinyl\", \"qty\": \"1\"}], \"thumb\": \"\", \"title\": \"Simple Pleasures\", \"artists\": [{\"join\": \"\", \"name\": \"Big Strick\", \"anv\": \"\", \"tracks\": \"\", \"role\": \"\", \"resource_url\": \"http://api.discogs.com/artists/1156160\", \"id\": 1156160}], \"resource_url\": \"http://api.discogs.com/releases/6786350\", \"year\": 2015, \"id\": 6786350}, \"id\": 6786350}, {\"instance_id\": 70879530, \"rating\": 0, \"basic_information\": {\"labels\": [{\"id\": 245458, \"resource_url\": \"http://api.discogs.com/labels/245458\", \"catno\": \"7dayentgn-1001 \", \"name\": \"7 Days Ent.\", \"entity_type\": \"1\"}], \"formats\": [{\"descriptions\": [\"12\\\"\", \"33 \\u2153 RPM\"], \"name\": \"Vinyl\", \"qty\": \"1\"}], \"thumb\": \"\", \"title\": \"Medication\", \"artists\": [{\"join\": \"\", \"name\": \"Generation Next (2)\", \"anv\": \"\", \"tracks\": \"\", \"role\": \"\", \"resource_url\": \"http://api.discogs.com/artists/3016794\", \"id\": 3016794}], \"resource_url\": \"http://api.discogs.com/releases/4883878\", \"year\": 2013, \"id\": 4883878}, \"id\": 4883878}, {\"instance_id\": 70879504, \"rating\": 0, \"basic_information\": {\"labels\": [{\"id\": 245458, \"resource_url\": \"http://api.discogs.com/labels/245458\", \"catno\": \"7DAYSENT-GN1000 \", \"name\": \"7 Days Ent.\", \"entity_type\": \"1\"}], \"formats\": [{\"descriptions\": [\"12\\\"\", \"EP\"], \"name\": \"Vinyl\", \"qty\": \"1\"}], \"thumb\": \"\", \"title\": \"Generation Next EP\", \"artists\": [{\"join\": \"\", \"name\": \"Generation Next (2)\", \"anv\": \"\", \"tracks\": \"\", \"role\": \"\", \"resource_url\": \"http://api.discogs.com/artists/3016794\", \"id\": 3016794}], \"resource_url\": \"http://api.discogs.com/releases/4316246\", \"year\": 2013, \"id\": 4316246}, \"id\": 4316246}, {\"instance_id\": 112900462, \"rating\": 0, \"basic_information\": {\"labels\": [{\"id\": 245458, \"resource_url\": \"http://api.discogs.com/labels/245458\", \"catno\": \"7DAYSENT-GN1002\", \"name\": \"7 Days Ent.\", \"entity_type\": \"1\"}], \"formats\": [{\"descriptions\": [\"12\\\"\", \"33 \\u2153 RPM\"], \"name\": \"Vinyl\", \"qty\": \"1\"}], \"thumb\": \"\", \"title\": \"Nocturne\", \"artists\": [{\"join\": \"\", \"name\": \"Generation Next (2)\", \"anv\": \"\", \"tracks\": \"\", \"role\": \"\", \"resource_url\": \"http://api.discogs.com/artists/3016794\", \"id\": 3016794}], \"resource_url\": \"http://api.discogs.com/releases/6137603\", \"year\": 2014, \"id\": 6137603}, \"id\": 6137603}, {\"instance_id\": 115878033, \"rating\": 0, \"basic_information\": {\"labels\": [{\"id\": 245458, \"resource_url\": \"http://api.discogs.com/labels/245458\", \"catno\": \"BIGSTICK-007\", \"name\": \"7 Days Ent.\", \"entity_type\": \"1\"}], \"formats\": [{\"descriptions\": [\"12\\\"\"], \"name\": \"Vinyl\", \"qty\": \"1\"}], \"thumb\": \"\", \"title\": \"Big Strick Presents... Resivior Dogs Volume. 1\", \"artists\": [{\"join\": \"\", \"name\": \"Various\", \"anv\": \"\", \"tracks\": \"\", \"role\": \"\", \"resource_url\": \"http://api.discogs.com/artists/194\", \"id\": 194}], \"resource_url\": \"http://api.discogs.com/releases/3845105\", \"year\": 2012, \"id\": 3845105}, \"id\": 3845105}, {\"instance_id\": 70879360, \"rating\": 0, \"basic_information\": {\"labels\": [{\"id\": 4738, \"resource_url\": \"http://api.discogs.com/labels/4738\", \"catno\": \"9009\", \"name\": \"99 Records\", \"entity_type\": \"1\"}], \"formats\": [{\"descriptions\": [\"LP\", \"Album\"], \"name\": \"Vinyl\", \"qty\": \"1\"}], \"thumb\": \"\", \"title\": \"\\\"Newly\\\" Alternative Tracks\", \"artists\": [{\"join\": \"\", \"name\": \"Spiritual Vibes\", \"anv\": \"\", \"tracks\": \"\", \"role\": \"\", \"resource_url\": \"http://api.discogs.com/artists/16558\", \"id\": 16558}], \"resource_url\": \"http://api.discogs.com/releases/1763486\", \"year\": 1994, \"id\": 1763486}, \"id\": 1763486}, {\"instance_id\": 70879045, \"rating\": 0, \"basic_information\": {\"labels\": [{\"id\": 904, \"resource_url\": \"http://api.discogs.com/labels/904\", \"catno\": \"SP-4853\", \"name\": \"A&M Records\", \"entity_type\": \"1\"}], \"formats\": [{\"descriptions\": [\"LP\", \"Album\"], \"name\": \"Vinyl\", \"qty\": \"1\"}], \"thumb\": \"\", \"title\": \"BGM\", \"artists\": [{\"join\": \"\", \"name\": \"Yellow Magic Orchestra\", \"anv\": \"\", \"tracks\": \"\", \"role\": \"\", \"resource_url\": \"http://api.discogs.com/artists/22061\", \"id\": 22061}], \"resource_url\": \"http://api.discogs.com/releases/58024\", \"year\": 1981, \"id\": 58024}, \"id\": 58024}, {\"instance_id\": 70879474, \"rating\": 0, \"basic_information\": {\"labels\": [{\"id\": 904, \"resource_url\": \"http://api.discogs.com/labels/904\", \"catno\": \"SP 3905\", \"name\": \"A&M Records\", \"entity_type\": \"1\"}, {\"id\": 904, \"resource_url\": \"http://api.discogs.com/labels/904\", \"catno\": \"SP 5106\", \"name\": \"A&M Records\", \"entity_type\": \"1\"}], \"formats\": [{\"descriptions\": [\"LP\", \"Album\", \"Club Edition\"], \"name\": \"Vinyl\", \"qty\": \"1\"}], \"thumb\": \"\", \"title\": \"Control\", \"artists\": [{\"join\": \"\", \"name\": \"Janet Jackson\", \"anv\": \"\", \"tracks\": \"\", \"role\": \"\", \"resource_url\": \"http://api.discogs.com/artists/8024\", \"id\": 8024}], \"resource_url\": \"http://api.discogs.com/releases/3582315\", \"year\": 1986, \"id\": 3582315}, \"id\": 3582315}, {\"instance_id\": 70879079, \"rating\": 4, \"basic_information\": {\"labels\": [{\"id\": 3308, \"resource_url\": \"http://api.discogs.com/labels/3308\", \"catno\": \"A 11 V\", \"name\": \"A-Musik\", \"entity_type\": \"1\"}], \"formats\": [{\"descriptions\": [\"LP\"], \"name\": \"Vinyl\", \"qty\": \"1\"}], \"thumb\": \"\", \"title\": \"Fijnewas Afpompen\", \"artists\": [{\"join\": \"\", \"name\": \"Holosud\", \"anv\": \"\", \"tracks\": \"\", \"role\": \"\", \"resource_url\": \"http://api.discogs.com/artists/13979\", \"id\": 13979}], \"resource_url\": \"http://api.discogs.com/releases/81145\", \"year\": 1998, \"id\": 81145}, \"id\": 81145}, {\"instance_id\": 70879026, \"rating\": 0, \"basic_information\": {\"labels\": [{\"id\": 3308, \"resource_url\": \"http://api.discogs.com/labels/3308\", \"catno\": \"a08\", \"name\": \"A-Musik\", \"entity_type\": \"1\"}], \"formats\": [{\"descriptions\": [\"12\\\"\"], \"name\": \"Vinyl\", \"qty\": \"1\"}], \"thumb\": \"\", \"title\": \"Holosud\", \"artists\": [{\"join\": \"\", \"name\": \"Holosud\", \"anv\": \"\", \"tracks\": \"\", \"role\": \"\", \"resource_url\": \"http://api.discogs.com/artists/13979\", \"id\": 13979}], \"resource_url\": \"http://api.discogs.com/releases/43545\", \"year\": 1997, \"id\": 43545}, \"id\": 43545}, {\"instance_id\": 70879124, \"rating\": 0, \"basic_information\": {\"labels\": [{\"id\": 3308, \"resource_url\": \"http://api.discogs.com/labels/3308\", \"catno\": \"a9V\", \"name\": \"A-Musik\", \"entity_type\": \"1\"}], \"formats\": [{\"descriptions\": [\"LP\"], \"text\": \"White\", \"name\": \"Vinyl\", \"qty\": \"1\"}], \"thumb\": \"\", \"title\": \"Goflex\", \"artists\": [{\"join\": \"\", \"name\": \"F.X. Randomiz\", \"anv\": \"\", \"tracks\": \"\", \"role\": \"\", \"resource_url\": \"http://api.discogs.com/artists/13977\", \"id\": 13977}], \"resource_url\": \"http://api.discogs.com/releases/136531\", \"year\": 1997, \"id\": 136531}, \"id\": 136531}, {\"instance_id\": 70879187, \"rating\": 0, \"basic_information\": {\"labels\": [{\"id\": 419574, \"resource_url\": \"http://api.discogs.com/labels/419574\", \"catno\": \"WQJB-1010\", \"name\": \"A.K.A. Bounce\", \"entity_type\": \"1\"}], \"formats\": [{\"descriptions\": [\"12\\\"\", \"33 \\u2153 RPM\", \"EP\"], \"name\": \"Vinyl\", \"qty\": \"1\"}], \"thumb\": \"\", \"title\": \"Child And Magic Remix E.P.\", \"artists\": [{\"join\": \"\", \"name\": \"Nobukazu Takemura\", \"anv\": \"\", \"tracks\": \"\", \"role\": \"\", \"resource_url\": \"http://api.discogs.com/artists/1777\", \"id\": 1777}], \"resource_url\": \"http://api.discogs.com/releases/225089\", \"year\": 1998, \"id\": 225089}, \"id\": 225089}, {\"instance_id\": 115159482, \"rating\": 0, \"basic_information\": {\"labels\": [{\"id\": 187858, \"resource_url\": \"http://api.discogs.com/labels/187858\", \"catno\": \"AD-011\", \"name\": \"Acoustic Division\", \"entity_type\": \"1\"}], \"formats\": [{\"descriptions\": [\"12\\\"\", \"33 \\u2153 RPM\", \"45 RPM\"], \"name\": \"Vinyl\", \"qty\": \"1\"}], \"thumb\": \"\", \"title\": \"Step Off\", \"artists\": [{\"join\": \"\", \"name\": \"Todd Osborn\", \"anv\": \"\", \"tracks\": \"\", \"role\": \"\", \"resource_url\": \"http://api.discogs.com/artists/38945\", \"id\": 38945}], \"resource_url\": \"http://api.discogs.com/releases/6066010\", \"year\": 2014, \"id\": 6066010}, \"id\": 6066010}, {\"instance_id\": 123427591, \"rating\": 0, \"basic_information\": {\"labels\": [{\"id\": 82394, \"resource_url\": \"http://api.discogs.com/labels/82394\", \"catno\": \"AES-009\", \"name\": \"Aesthetic Audio\", \"entity_type\": \"1\"}], \"formats\": [{\"descriptions\": [\"12\\\"\", \"33 \\u2153 RPM\"], \"name\": \"Vinyl\", \"qty\": \"1\"}], \"thumb\": \"\", \"title\": \"Moments In Rhythm Vol 2. (Sounds From Detroit)\", \"artists\": [{\"join\": \"\", \"name\": \"Keith Worthy\", \"anv\": \"\", \"tracks\": \"\", \"role\": \"\", \"resource_url\": \"http://api.discogs.com/artists/333817\", \"id\": 333817}], \"resource_url\": \"http://api.discogs.com/releases/2236668\", \"year\": 2010, \"id\": 2236668}, \"id\": 2236668}, {\"instance_id\": 115413688, \"rating\": 0, \"basic_information\": {\"labels\": [{\"id\": 82394, \"resource_url\": \"http://api.discogs.com/labels/82394\", \"catno\": \"AES-018\", \"name\": \"Aesthetic Audio\", \"entity_type\": \"1\"}], \"formats\": [{\"descriptions\": [\"12\\\"\", \"33 \\u2153 RPM\"], \"name\": \"Vinyl\", \"qty\": \"1\"}], \"thumb\": \"\", \"title\": \"The Unusual Suspects Vol 1\", \"artists\": [{\"join\": \"\", \"name\": \"Various\", \"anv\": \"\", \"tracks\": \"\", \"role\": \"\", \"resource_url\": \"http://api.discogs.com/artists/194\", \"id\": 194}], \"resource_url\": \"http://api.discogs.com/releases/5908110\", \"year\": 2014, \"id\": 5908110}, \"id\": 5908110}, {\"instance_id\": 118469921, \"rating\": 0, \"basic_information\": {\"labels\": [{\"id\": 82394, \"resource_url\": \"http://api.discogs.com/labels/82394\", \"catno\": \"AES-019\", \"name\": \"Aesthetic Audio\", \"entity_type\": \"1\"}], \"formats\": [{\"descriptions\": [\"12\\\"\", \"Album\"], \"name\": \"Vinyl\", \"qty\": \"2\"}], \"thumb\": \"\", \"title\": \"The Price Of Nonconformance\", \"artists\": [{\"join\": \"\", \"name\": \"Keith Worthy\", \"anv\": \"\", \"tracks\": \"\", \"role\": \"\", \"resource_url\": \"http://api.discogs.com/artists/333817\", \"id\": 333817}], \"resource_url\": \"http://api.discogs.com/releases/6345712\", \"year\": 2014, \"id\": 6345712}, \"id\": 6345712}, {\"instance_id\": 110828699, \"rating\": 0, \"basic_information\": {\"labels\": [{\"id\": 37570, \"resource_url\": \"http://api.discogs.com/labels/37570\", \"catno\": \"ALR-28003\", \"name\": \"Alfa\", \"entity_type\": \"1\"}], \"formats\": [{\"descriptions\": [\"LP\", \"Album\"], \"name\": \"Vinyl\", \"qty\": \"1\"}], \"thumb\": \"\", \"title\": \"B-2 Unit\", \"artists\": [{\"join\": \"\", \"name\": \"Ryuichi Sakamoto\", \"anv\": \"Riuichi Sakamoto\", \"tracks\": \"\", \"role\": \"\", \"resource_url\": \"http://api.discogs.com/artists/5087\", \"id\": 5087}], \"resource_url\": \"http://api.discogs.com/releases/319321\", \"year\": 1980, \"id\": 319321}, \"id\": 319321}, {\"instance_id\": 110726576, \"rating\": 0, \"basic_information\": {\"labels\": [{\"id\": 37570, \"resource_url\": \"http://api.discogs.com/labels/37570\", \"catno\": \"ALR-6022\", \"name\": \"Alfa\", \"entity_type\": \"1\"}], \"formats\": [{\"descriptions\": [\"LP\"], \"name\": \"Vinyl\", \"qty\": \"1\"}], \"thumb\": \"\", \"title\": \"Solid State Survivor\", \"artists\": [{\"join\": \"\", \"name\": \"Yellow Magic Orchestra\", \"anv\": \"\", \"tracks\": \"\", \"role\": \"\", \"resource_url\": \"http://api.discogs.com/artists/22061\", \"id\": 22061}], \"resource_url\": \"http://api.discogs.com/releases/359432\", \"year\": 1979, \"id\": 359432}, \"id\": 359432}, {\"instance_id\": 110922550, \"rating\": 0, \"basic_information\": {\"labels\": [{\"id\": 37570, \"resource_url\": \"http://api.discogs.com/labels/37570\", \"catno\": \"YMO-1\", \"name\": \"Alfa\", \"entity_type\": \"1\"}], \"formats\": [{\"descriptions\": [\"10\\\"\", \"33 \\u2153 RPM\", \"Mini-Album\"], \"name\": \"Vinyl\", \"qty\": \"1\"}], \"thumb\": \"\", \"title\": \"\\u5897\\u6b96  X\\u221eMultiplies\", \"artists\": [{\"join\": \"\", \"name\": \"Yellow Magic Orchestra\", \"anv\": \"\", \"tracks\": \"\", \"role\": \"\", \"resource_url\": \"http://api.discogs.com/artists/22061\", \"id\": 22061}], \"resource_url\": \"http://api.discogs.com/releases/376400\", \"year\": 1980, \"id\": 376400}, \"id\": 376400}, {\"instance_id\": 70879211, \"rating\": 0, \"basic_information\": {\"labels\": [{\"id\": 8184, \"resource_url\": \"http://api.discogs.com/labels/8184\", \"catno\": \"YLR-20002\", \"name\": \"Alfa Records, Inc\", \"entity_type\": \"1\"}], \"formats\": [{\"descriptions\": [\"LP\"], \"name\": \"Vinyl\", \"qty\": \"1\"}], \"thumb\": \"\", \"title\": \"Naughty Boys (Instrumental)\", \"artists\": [{\"join\": \"\", \"name\": \"Yellow Magic Orchestra\", \"anv\": \"Y.M.O.\", \"tracks\": \"\", \"role\": \"\", \"resource_url\": \"http://api.discogs.com/artists/22061\", \"id\": 22061}], \"resource_url\": \"http://api.discogs.com/releases/299668\", \"year\": 1983, \"id\": 299668}, \"id\": 299668}, {\"instance_id\": 70879424, \"rating\": 0, \"basic_information\": {\"labels\": [{\"id\": 53017, \"resource_url\": \"http://api.discogs.com/labels/53017\", \"catno\": \"ACKK 12X1\", \"name\": \"All City Records (3)\", \"entity_type\": \"1\"}], \"formats\": [{\"descriptions\": [\"12\\\"\", \"33 \\u2153 RPM\"], \"name\": \"Vinyl\", \"qty\": \"1\"}], \"thumb\": \"\", \"title\": \"Tried For Your Love\", \"artists\": [{\"join\": \"\", \"name\": \"Krystal Klear\", \"anv\": \"\", \"tracks\": \"\", \"role\": \"\", \"resource_url\": \"http://api.discogs.com/artists/1749060\", \"id\": 1749060}], \"resource_url\": \"http://api.discogs.com/releases/2594428\", \"year\": 2010, \"id\": 2594428}, \"id\": 2594428}, {\"instance_id\": 70879560, \"rating\": 0, \"basic_information\": {\"labels\": [{\"id\": 1488, \"resource_url\": \"http://api.discogs.com/labels/1488\", \"catno\": \"ML 9009 \", \"name\": \"Alleviated Records\", \"entity_type\": \"1\"}], \"formats\": [{\"descriptions\": [\"LP\", \"Reissue\", \"Remastered\"], \"name\": \"Vinyl\", \"qty\": \"2\"}], \"thumb\": \"\", \"title\": \"Alien\", \"artists\": [{\"join\": \"\", \"name\": \"Larry Heard\", \"anv\": \"\", \"tracks\": \"\", \"role\": \"\", \"resource_url\": \"http://api.discogs.com/artists/148\", \"id\": 148}], \"resource_url\": \"http://api.discogs.com/releases/5592574\", \"year\": 2014, \"id\": 5592574}, \"id\": 5592574}, {\"instance_id\": 113844520, \"rating\": 0, \"basic_information\": {\"labels\": [{\"id\": 1488, \"resource_url\": \"http://api.discogs.com/labels/1488\", \"catno\": \"ML-2206\", \"name\": \"Alleviated Records\", \"entity_type\": \"1\"}], \"formats\": [{\"descriptions\": [\"12\\\"\", \"33 \\u2153 RPM\", \"Reissue\", \"Remastered\"], \"name\": \"Vinyl\", \"qty\": \"1\"}], \"thumb\": \"\", \"title\": \"Slam Dance\", \"artists\": [{\"join\": \"\", \"name\": \"Mr. Fingers\", \"anv\": \"Mr.Fingers\", \"tracks\": \"\", \"role\": \"\", \"resource_url\": \"http://api.discogs.com/artists/2446\", \"id\": 2446}], \"resource_url\": \"http://api.discogs.com/releases/2111289\", \"year\": 2010, \"id\": 2111289}, \"id\": 2111289}, {\"instance_id\": 112546562, \"rating\": 0, \"basic_information\": {\"labels\": [{\"id\": 1488, \"resource_url\": \"http://api.discogs.com/labels/1488\", \"catno\": \"ML-2221\", \"name\": \"Alleviated Records\", \"entity_type\": \"1\"}], \"formats\": [{\"descriptions\": [\"12\\\"\", \"33 \\u2153 RPM\", \"Reissue\"], \"name\": \"Vinyl\", \"qty\": \"1\"}], \"thumb\": \"\", \"title\": \"Glancing At The Moon\", \"artists\": [{\"join\": \"\", \"name\": \"Loosefingers\", \"anv\": \"\", \"tracks\": \"\", \"role\": \"\", \"resource_url\": \"http://api.discogs.com/artists/216152\", \"id\": 216152}], \"resource_url\": \"http://api.discogs.com/releases/5841729\", \"year\": 2014, \"id\": 5841729}, \"id\": 5841729}, {\"instance_id\": 112543392, \"rating\": 0, \"basic_information\": {\"labels\": [{\"id\": 1488, \"resource_url\": \"http://api.discogs.com/labels/1488\", \"catno\": \"ML-2222\", \"name\": \"Alleviated Records\", \"entity_type\": \"1\"}], \"formats\": [{\"descriptions\": [\"12\\\"\", \"33 \\u2153 RPM\", \"Reissue\"], \"name\": \"Vinyl\", \"qty\": \"1\"}], \"thumb\": \"\", \"title\": \"When Summer Comes\", \"artists\": [{\"join\": \"\", \"name\": \"Loosefingers\", \"anv\": \"\", \"tracks\": \"\", \"role\": \"\", \"resource_url\": \"http://api.discogs.com/artists/216152\", \"id\": 216152}], \"resource_url\": \"http://api.discogs.com/releases/5841720\", \"year\": 2014, \"id\": 5841720}, \"id\": 5841720}, {\"instance_id\": 135839823, \"rating\": 0, \"basic_information\": {\"labels\": [{\"id\": 1488, \"resource_url\": \"http://api.discogs.com/labels/1488\", \"catno\": \"ML-2225\", \"name\": \"Alleviated Records\", \"entity_type\": \"1\"}], \"formats\": [{\"descriptions\": [\"12\\\"\", \"33 \\u2153 RPM\", \"Reissue\"], \"name\": \"Vinyl\", \"qty\": \"1\"}], \"thumb\": \"\", \"title\": \"You Rock Me / The Sun Can't Compare\", \"artists\": [{\"join\": \"Presents:\", \"name\": \"Larry Heard\", \"anv\": \"\", \"tracks\": \"\", \"role\": \"\", \"resource_url\": \"http://api.discogs.com/artists/148\", \"id\": 148}, {\"join\": \"\", \"name\": \"Chad White\", \"anv\": \"Mr. White\", \"tracks\": \"\", \"role\": \"\", \"resource_url\": \"http://api.discogs.com/artists/739771\", \"id\": 739771}], \"resource_url\": \"http://api.discogs.com/releases/4253186\", \"year\": 2013, \"id\": 4253186}, \"id\": 4253186}, {\"instance_id\": 128691451, \"rating\": 0, \"basic_information\": {\"labels\": [{\"id\": 1488, \"resource_url\": \"http://api.discogs.com/labels/1488\", \"catno\": \"ML-2229\", \"name\": \"Alleviated Records\", \"entity_type\": \"1\"}], \"formats\": [{\"descriptions\": [\"12\\\"\", \"33 \\u2153 RPM\", \"EP\"], \"name\": \"Vinyl\", \"qty\": \"1\"}], \"thumb\": \"\", \"title\": \"The It EP\", \"artists\": [{\"join\": \"\", \"name\": \"It, The\", \"anv\": \"\", \"tracks\": \"\", \"role\": \"\", \"resource_url\": \"http://api.discogs.com/artists/17769\", \"id\": 17769}], \"resource_url\": \"http://api.discogs.com/releases/6185397\", \"year\": 2014, \"id\": 6185397}, \"id\": 6185397}, {\"instance_id\": 70879429, \"rating\": 0, \"basic_information\": {\"labels\": [{\"id\": 1488, \"resource_url\": \"http://api.discogs.com/labels/1488\", \"catno\": \"ML-9002\", \"name\": \"Alleviated Records\", \"entity_type\": \"1\"}], \"formats\": [{\"descriptions\": [\"12\\\"\", \"45 RPM\", \"Reissue\", \"Remastered\"], \"name\": \"Vinyl\", \"qty\": \"1\"}], \"thumb\": \"\", \"title\": \"Washing Machine / Can You Feel It\", \"artists\": [{\"join\": \"\", \"name\": \"Mr. Fingers\", \"anv\": \"\", \"tracks\": \"\", \"role\": \"\", \"resource_url\": \"http://api.discogs.com/artists/2446\", \"id\": 2446}], \"resource_url\": \"http://api.discogs.com/releases/2707010\", \"year\": 2011, \"id\": 2707010}, \"id\": 2707010}, {\"instance_id\": 126900906, \"rating\": 0, \"basic_information\": {\"labels\": [{\"id\": 683, \"resource_url\": \"http://api.discogs.com/labels/683\", \"catno\": \"APOLLO III\", \"name\": \"Apollo\", \"entity_type\": \"1\"}], \"formats\": [{\"descriptions\": [\"12\\\"\", \"Reissue\", \"Remastered\"], \"name\": \"Vinyl\", \"qty\": \"1\"}], \"thumb\": \"\", \"title\": \"The Passage\", \"artists\": [{\"join\": \"\", \"name\": \"Model 500\", \"anv\": \"\", \"tracks\": \"\", \"role\": \"\", \"resource_url\": \"http://api.discogs.com/artists/1141\", \"id\": 1141}], \"resource_url\": \"http://api.discogs.com/releases/6369444\", \"year\": 2014, \"id\": 6369444}, \"id\": 6369444}, {\"instance_id\": 70879405, \"rating\": 0, \"basic_information\": {\"labels\": [{\"id\": 59880, \"resource_url\": \"http://api.discogs.com/labels/59880\", \"catno\": \"ADI-735\", \"name\": \"April Records (3)\", \"entity_type\": \"1\"}], \"formats\": [{\"descriptions\": [\"LP\", \"Album\", \"Repress\"], \"name\": \"Vinyl\", \"qty\": \"1\"}], \"thumb\": \"\", \"title\": \"Africa Stand Alone\", \"artists\": [{\"join\": \"\", \"name\": \"Culture\", \"anv\": \"\", \"tracks\": \"\", \"role\": \"\", \"resource_url\": \"http://api.discogs.com/artists/64683\", \"id\": 64683}], \"resource_url\": \"http://api.discogs.com/releases/2369199\", \"year\": 0, \"id\": 2369199}, \"id\": 2369199}, {\"instance_id\": 70879390, \"rating\": 0, \"basic_information\": {\"labels\": [{\"id\": 61010, \"resource_url\": \"http://api.discogs.com/labels/61010\", \"catno\": \"FC 37616\", \"name\": \"ARC (3)\", \"entity_type\": \"1\"}, {\"id\": 1866, \"resource_url\": \"http://api.discogs.com/labels/1866\", \"catno\": \"FC 37616\", \"name\": \"Columbia\", \"entity_type\": \"1\"}], \"formats\": [{\"descriptions\": [\"LP\", \"Album\"], \"name\": \"Vinyl\", \"qty\": \"1\"}], \"thumb\": \"\", \"title\": \"Weather Report\", \"artists\": [{\"join\": \"\", \"name\": \"Weather Report\", \"anv\": \"\", \"tracks\": \"\", \"role\": \"\", \"resource_url\": \"http://api.discogs.com/artists/10082\", \"id\": 10082}], \"resource_url\": \"http://api.discogs.com/releases/2156437\", \"year\": 1982, \"id\": 2156437}, \"id\": 2156437}, {\"instance_id\": 70879345, \"rating\": 0, \"basic_information\": {\"labels\": [{\"id\": 61010, \"resource_url\": \"http://api.discogs.com/labels/61010\", \"catno\": \"JC 35358\", \"name\": \"ARC (3)\", \"entity_type\": \"1\"}, {\"id\": 1866, \"resource_url\": \"http://api.discogs.com/labels/1866\", \"catno\": \"JC 35358\", \"name\": \"Columbia\", \"entity_type\": \"1\"}], \"formats\": [{\"descriptions\": [\"LP\", \"Album\"], \"name\": \"Vinyl\", \"qty\": \"1\"}], \"thumb\": \"\", \"title\": \"Mr. Gone\", \"artists\": [{\"join\": \",\", \"name\": \"Weather Report\", \"anv\": \"\", \"tracks\": \"\", \"role\": \"\", \"resource_url\": \"http://api.discogs.com/artists/10082\", \"id\": 10082}], \"resource_url\": \"http://api.discogs.com/releases/1516462\", \"year\": 1978, \"id\": 1516462}, \"id\": 1516462}, {\"instance_id\": 70879479, \"rating\": 0, \"basic_information\": {\"labels\": [{\"id\": 89289, \"resource_url\": \"http://api.discogs.com/labels/89289\", \"catno\": \"2533 440\", \"name\": \"Archiv Produktion\", \"entity_type\": \"1\"}], \"formats\": [{\"descriptions\": [\"LP\"], \"name\": \"Vinyl\", \"qty\": \"1\"}], \"thumb\": \"\", \"title\": \"Overture BWV 1069 - Brandenburg Concerto No. 5, BWV 1050\", \"artists\": [{\"join\": \"Performed By\", \"name\": \"Johann Sebastian Bach\", \"anv\": \"\", \"tracks\": \"\", \"role\": \"\", \"resource_url\": \"http://api.discogs.com/artists/95537\", \"id\": 95537}, {\"join\": \"With\", \"name\": \"English Concert\", \"anv\": \"\", \"tracks\": \"\", \"role\": \"\", \"resource_url\": \"http://api.discogs.com/artists/837589\", \"id\": 837589}, {\"join\": \"\", \"name\": \"Trevor Pinnock\", \"anv\": \"\", \"tracks\": \"\", \"role\": \"\", \"resource_url\": \"http://api.discogs.com/artists/837588\", \"id\": 837588}], \"resource_url\": \"http://api.discogs.com/releases/3654023\", \"year\": 1980, \"id\": 3654023}, \"id\": 3654023}, {\"instance_id\": 70879439, \"rating\": 0, \"basic_information\": {\"labels\": [{\"id\": 89289, \"resource_url\": \"http://api.discogs.com/labels/89289\", \"catno\": \"2723 017\", \"name\": \"Archiv Produktion\", \"entity_type\": \"1\"}], \"formats\": [{\"descriptions\": [\"LP\", \"Album\"], \"name\": \"Vinyl\", \"qty\": \"2\"}], \"thumb\": \"\", \"title\": \"Java - Gamelans From The Sultan's Palace In Jogjakarta\", \"artists\": [{\"join\": \"\", \"name\": \"Jacques Brunet\", \"anv\": \"\", \"tracks\": \"\", \"role\": \"\", \"resource_url\": \"http://api.discogs.com/artists/930453\", \"id\": 930453}], \"resource_url\": \"http://api.discogs.com/releases/2797407\", \"year\": 1973, \"id\": 2797407}, \"id\": 2797407}, {\"instance_id\": 126815789, \"rating\": 0, \"basic_information\": {\"labels\": [{\"id\": 3769, \"resource_url\": \"http://api.discogs.com/labels/3769\", \"catno\": \"AREAL 33\", \"name\": \"Areal Records\", \"entity_type\": \"1\"}], \"formats\": [{\"descriptions\": [\"LP\", \"Album\"], \"name\": \"Vinyl\", \"qty\": \"2\"}], \"thumb\": \"\", \"title\": \"Kobol\", \"artists\": [{\"join\": \"\", \"name\": \"Metope\", \"anv\": \"\", \"tracks\": \"\", \"role\": \"\", \"resource_url\": \"http://api.discogs.com/artists/18763\", \"id\": 18763}], \"resource_url\": \"http://api.discogs.com/releases/508305\", \"year\": 2005, \"id\": 508305}, \"id\": 508305}, {\"instance_id\": 70879065, \"rating\": 0, \"basic_information\": {\"labels\": [{\"id\": 3769, \"resource_url\": \"http://api.discogs.com/labels/3769\", \"catno\": \"Areal010\", \"name\": \"Areal Records\", \"entity_type\": \"1\"}], \"formats\": [{\"descriptions\": [\"12\\\"\"], \"name\": \"Vinyl\", \"qty\": \"1\"}], \"thumb\": \"\", \"title\": \"Blindhouse / Luckycharm\", \"artists\": [{\"join\": \"\", \"name\": \"Ada\", \"anv\": \"\", \"tracks\": \"\", \"role\": \"\", \"resource_url\": \"http://api.discogs.com/artists/28297\", \"id\": 28297}], \"resource_url\": \"http://api.discogs.com/releases/69767\", \"year\": 2002, \"id\": 69767}, \"id\": 69767}, {\"instance_id\": 70879186, \"rating\": 0, \"basic_information\": {\"labels\": [{\"id\": 3769, \"resource_url\": \"http://api.discogs.com/labels/3769\", \"catno\": \"Areal018\", \"name\": \"Areal Records\", \"entity_type\": \"1\"}], \"formats\": [{\"descriptions\": [\"12\\\"\"], \"name\": \"Vinyl\", \"qty\": \"1\"}], \"thumb\": \"\", \"title\": \"Gleit/Zeit\", \"artists\": [{\"join\": \"\", \"name\": \"Undo/Redo\", \"anv\": \"\", \"tracks\": \"\", \"role\": \"\", \"resource_url\": \"http://api.discogs.com/artists/18762\", \"id\": 18762}], \"resource_url\": \"http://api.discogs.com/releases/224377\", \"year\": 2003, \"id\": 224377}, \"id\": 224377}, {\"instance_id\": 70879238, \"rating\": 5, \"basic_information\": {\"labels\": [{\"id\": 3769, \"resource_url\": \"http://api.discogs.com/labels/3769\", \"catno\": \"Areal029\", \"name\": \"Areal Records\", \"entity_type\": \"1\"}], \"formats\": [{\"descriptions\": [\"12\\\"\"], \"name\": \"Vinyl\", \"qty\": \"1\"}], \"thumb\": \"\", \"title\": \"Blondix 1\", \"artists\": [{\"join\": \"\", \"name\": \"Ada\", \"anv\": \"\", \"tracks\": \"\", \"role\": \"\", \"resource_url\": \"http://api.discogs.com/artists/28297\", \"id\": 28297}], \"resource_url\": \"http://api.discogs.com/releases/442245\", \"year\": 2005, \"id\": 442245}, \"id\": 442245}, {\"instance_id\": 70879254, \"rating\": 0, \"basic_information\": {\"labels\": [{\"id\": 3769, \"resource_url\": \"http://api.discogs.com/labels/3769\", \"catno\": \"Areal034\", \"name\": \"Areal Records\", \"entity_type\": \"1\"}], \"formats\": [{\"descriptions\": [\"12\\\"\"], \"name\": \"Vinyl\", \"qty\": \"1\"}], \"thumb\": \"\", \"title\": \"I Love Asphalt\", \"artists\": [{\"join\": \"\", \"name\": \"Ada\", \"anv\": \"\", \"tracks\": \"\", \"role\": \"\", \"resource_url\": \"http://api.discogs.com/artists/28297\", \"id\": 28297}], \"resource_url\": \"http://api.discogs.com/releases/543787\", \"year\": 2005, \"id\": 543787}, \"id\": 543787}, {\"instance_id\": 70879273, \"rating\": 0, \"basic_information\": {\"labels\": [{\"id\": 3769, \"resource_url\": \"http://api.discogs.com/labels/3769\", \"catno\": \"Areal037\", \"name\": \"Areal Records\", \"entity_type\": \"1\"}], \"formats\": [{\"descriptions\": [\"12\\\"\"], \"name\": \"Vinyl\", \"qty\": \"1\"}], \"thumb\": \"\", \"title\": \"Meteorchester\", \"artists\": [{\"join\": \"\", \"name\": \"Basteroid\", \"anv\": \"\", \"tracks\": \"\", \"role\": \"\", \"resource_url\": \"http://api.discogs.com/artists/18761\", \"id\": 18761}], \"resource_url\": \"http://api.discogs.com/releases/704195\", \"year\": 2006, \"id\": 704195}, \"id\": 704195}]}"
   ]
  },
  {
   "cell_type": "code",
   "execution_count": null,
   "metadata": {
    "collapsed": false
   },
   "outputs": [],
   "source": [
    "test.keys()"
   ]
  },
  {
   "cell_type": "code",
   "execution_count": null,
   "metadata": {
    "collapsed": true
   },
   "outputs": [],
   "source": [
    "for release in test[\"releases\"]:\n",
    "    print release[\"resource_url\"]"
   ]
  }
 ],
 "metadata": {
  "kernelspec": {
   "display_name": "Python 3",
   "language": "python",
   "name": "python3"
  },
  "language_info": {
   "codemirror_mode": {
    "name": "ipython",
    "version": 3
   },
   "file_extension": ".py",
   "mimetype": "text/x-python",
   "name": "python",
   "nbconvert_exporter": "python",
   "pygments_lexer": "ipython3",
   "version": "3.5.0"
  }
 },
 "nbformat": 4,
 "nbformat_minor": 0
}
