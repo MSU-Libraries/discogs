{
 "metadata": {
  "name": "discogs"
 },
 "nbformat": 3,
 "nbformat_minor": 0,
 "worksheets": [
  {
   "cells": [
    {
     "cell_type": "markdown",
     "metadata": {},
     "source": [
      "Discogs Code \n",
      "------------"
     ]
    },
    {
     "cell_type": "markdown",
     "metadata": {},
     "source": [
      "Code sequence for grabbing all releases from a given collection and storing them as `XML`."
     ]
    },
    {
     "cell_type": "code",
     "collapsed": true,
     "input": [
      "from discogs import DiscogsData\n",
      "dd = DiscogsData()\n",
      "dd.ReturnXmlReleases(username=\"MSULibraries\", folder_id=\"0\", output_path=\"msulibraries/\")"
     ],
     "language": "python",
     "metadata": {},
     "outputs": [
      {
       "output_type": "stream",
       "stream": "stdout",
       "text": [
        "======Getting Collection======\n",
        "=============101============== Releases"
       ]
      },
      {
       "output_type": "stream",
       "stream": "stdout",
       "text": [
        "\n",
        "==============1===============\r"
       ]
      },
      {
       "output_type": "stream",
       "stream": "stdout",
       "text": [
        "Wrote file at msulibraries/3013180.xml\n",
        "==============2===============\r"
       ]
      },
      {
       "output_type": "stream",
       "stream": "stdout",
       "text": [
        "Wrote file at msulibraries/4549372.xml\n",
        "==============3===============\r"
       ]
      },
      {
       "output_type": "stream",
       "stream": "stdout",
       "text": [
        "Wrote file at msulibraries/3718352.xml\n",
        "==============4===============\r"
       ]
      },
      {
       "output_type": "stream",
       "stream": "stdout",
       "text": [
        "Wrote file at msulibraries/7106788.xml\n",
        "==============5===============\r"
       ]
      },
      {
       "output_type": "stream",
       "stream": "stdout",
       "text": [
        "Wrote file at msulibraries/2268576.xml\n",
        "==============6===============\r"
       ]
      },
      {
       "output_type": "stream",
       "stream": "stdout",
       "text": [
        "Wrote file at msulibraries/1347729.xml\n",
        "==============7===============\r"
       ]
      },
      {
       "output_type": "stream",
       "stream": "stdout",
       "text": [
        "Wrote file at msulibraries/6596534.xml\n",
        "==============8===============\r"
       ]
      },
      {
       "output_type": "stream",
       "stream": "stdout",
       "text": [
        "Wrote file at msulibraries/3307104.xml\n",
        "==============9===============\r"
       ]
      },
      {
       "output_type": "stream",
       "stream": "stdout",
       "text": [
        "Wrote file at msulibraries/5794868.xml\n",
        "==============10==============\r"
       ]
      },
      {
       "output_type": "stream",
       "stream": "stdout",
       "text": [
        "Wrote file at msulibraries/5131292.xml\n",
        "==============11==============\r"
       ]
      },
      {
       "output_type": "stream",
       "stream": "stdout",
       "text": [
        "Wrote file at msulibraries/2900857.xml\n",
        "==============12==============\r"
       ]
      },
      {
       "output_type": "stream",
       "stream": "stdout",
       "text": [
        "Wrote file at msulibraries/2458402.xml\n",
        "==============13==============\r"
       ]
      },
      {
       "output_type": "stream",
       "stream": "stdout",
       "text": [
        "Wrote file at msulibraries/3136317.xml\n",
        "==============14==============\r"
       ]
      },
      {
       "output_type": "stream",
       "stream": "stdout",
       "text": [
        "Wrote file at msulibraries/6654225.xml\n",
        "==============15==============\r"
       ]
      },
      {
       "output_type": "stream",
       "stream": "stdout",
       "text": [
        "Wrote file at msulibraries/4515652.xml\n",
        "==============16==============\r"
       ]
      },
      {
       "output_type": "stream",
       "stream": "stdout",
       "text": [
        "Wrote file at msulibraries/2563401.xml\n",
        "==============17==============\r"
       ]
      },
      {
       "output_type": "stream",
       "stream": "stdout",
       "text": [
        "Wrote file at msulibraries/4703767.xml\n",
        "==============18==============\r"
       ]
      },
      {
       "output_type": "stream",
       "stream": "stdout",
       "text": [
        "Wrote file at msulibraries/2574218.xml\n",
        "==============19==============\r"
       ]
      },
      {
       "output_type": "stream",
       "stream": "stdout",
       "text": [
        "Wrote file at msulibraries/4904544.xml\n",
        "==============20==============\r"
       ]
      },
      {
       "output_type": "stream",
       "stream": "stdout",
       "text": [
        "Wrote file at msulibraries/4477854.xml\n",
        "==============21==============\r"
       ]
      },
      {
       "output_type": "stream",
       "stream": "stdout",
       "text": [
        "Wrote file at msulibraries/3746985.xml\n",
        "==============22==============\r"
       ]
      },
      {
       "output_type": "stream",
       "stream": "stdout",
       "text": [
        "Wrote file at msulibraries/2355697.xml\n",
        "==============23==============\r"
       ]
      },
      {
       "output_type": "stream",
       "stream": "stdout",
       "text": [
        "Wrote file at msulibraries/2394830.xml\n",
        "==============24==============\r"
       ]
      },
      {
       "output_type": "stream",
       "stream": "stdout",
       "text": [
        "Wrote file at msulibraries/4971968.xml\n",
        "==============25==============\r"
       ]
      },
      {
       "output_type": "stream",
       "stream": "stdout",
       "text": [
        "Wrote file at msulibraries/2423870.xml\n",
        "==============26==============\r"
       ]
      },
      {
       "output_type": "stream",
       "stream": "stdout",
       "text": [
        "Wrote file at msulibraries/6217203.xml\n",
        "==============27==============\r"
       ]
      },
      {
       "output_type": "stream",
       "stream": "stdout",
       "text": [
        "Wrote file at msulibraries/570022.xml\n",
        "==============28==============\r"
       ]
      },
      {
       "output_type": "stream",
       "stream": "stdout",
       "text": [
        "Wrote file at msulibraries/5563364.xml\n",
        "==============29==============\r"
       ]
      },
      {
       "output_type": "stream",
       "stream": "stdout",
       "text": [
        "Wrote file at msulibraries/3255903.xml\n",
        "==============30==============\r"
       ]
      },
      {
       "output_type": "stream",
       "stream": "stdout",
       "text": [
        "Wrote file at msulibraries/4531358.xml\n",
        "==============31==============\r"
       ]
      },
      {
       "output_type": "stream",
       "stream": "stdout",
       "text": [
        "Wrote file at msulibraries/3975070.xml\n",
        "==============32==============\r"
       ]
      },
      {
       "output_type": "stream",
       "stream": "stdout",
       "text": [
        "Wrote file at msulibraries/3501270.xml\n",
        "==============33==============\r"
       ]
      },
      {
       "output_type": "stream",
       "stream": "stdout",
       "text": [
        "Wrote file at msulibraries/6030857.xml\n",
        "==============34==============\r"
       ]
      },
      {
       "output_type": "stream",
       "stream": "stdout",
       "text": [
        "Wrote file at msulibraries/4198787.xml\n",
        "==============35==============\r"
       ]
      },
      {
       "output_type": "stream",
       "stream": "stdout",
       "text": [
        "Wrote file at msulibraries/2504325.xml\n",
        "==============36==============\r"
       ]
      },
      {
       "output_type": "stream",
       "stream": "stdout",
       "text": [
        "Wrote file at msulibraries/4252632.xml\n",
        "==============37==============\r"
       ]
      },
      {
       "output_type": "stream",
       "stream": "stdout",
       "text": [
        "Wrote file at msulibraries/3800082.xml\n",
        "==============38==============\r"
       ]
      },
      {
       "output_type": "stream",
       "stream": "stdout",
       "text": [
        "Wrote file at msulibraries/3163601.xml\n",
        "==============39==============\r"
       ]
      },
      {
       "output_type": "stream",
       "stream": "stdout",
       "text": [
        "Wrote file at msulibraries/3082269.xml\n",
        "==============40==============\r"
       ]
      },
      {
       "output_type": "stream",
       "stream": "stdout",
       "text": [
        "Wrote file at msulibraries/1663345.xml\n",
        "==============41==============\r"
       ]
      },
      {
       "output_type": "stream",
       "stream": "stdout",
       "text": [
        "Wrote file at msulibraries/5318041.xml\n",
        "==============42==============\r"
       ]
      },
      {
       "output_type": "stream",
       "stream": "stdout",
       "text": [
        "Wrote file at msulibraries/1347772.xml\n",
        "==============43==============\r"
       ]
      },
      {
       "output_type": "stream",
       "stream": "stdout",
       "text": [
        "Wrote file at msulibraries/5448964.xml\n",
        "==============44==============\r"
       ]
      },
      {
       "output_type": "stream",
       "stream": "stdout",
       "text": [
        "Wrote file at msulibraries/3036926.xml\n",
        "==============45==============\r"
       ]
      },
      {
       "output_type": "stream",
       "stream": "stdout",
       "text": [
        "Wrote file at msulibraries/4304467.xml\n",
        "==============46==============\r"
       ]
      },
      {
       "output_type": "stream",
       "stream": "stdout",
       "text": [
        "Wrote file at msulibraries/1445452.xml\n",
        "==============47==============\r"
       ]
      },
      {
       "output_type": "stream",
       "stream": "stdout",
       "text": [
        "Wrote file at msulibraries/2122226.xml\n",
        "==============48==============\r"
       ]
      },
      {
       "output_type": "stream",
       "stream": "stdout",
       "text": [
        "Wrote file at msulibraries/5420317.xml\n",
        "==============49==============\r"
       ]
      },
      {
       "output_type": "stream",
       "stream": "stdout",
       "text": [
        "Wrote file at msulibraries/5881911.xml\n",
        "==============50==============\r"
       ]
      },
      {
       "output_type": "stream",
       "stream": "stdout",
       "text": [
        "Wrote file at msulibraries/3061403.xml\n",
        "==============51==============\r"
       ]
      },
      {
       "output_type": "stream",
       "stream": "stdout",
       "text": [
        "Wrote file at msulibraries/5721827.xml\n",
        "==============52==============\r"
       ]
      },
      {
       "output_type": "stream",
       "stream": "stdout",
       "text": [
        "Wrote file at msulibraries/3588906.xml\n",
        "==============53==============\r"
       ]
      },
      {
       "output_type": "stream",
       "stream": "stdout",
       "text": [
        "Wrote file at msulibraries/6506874.xml\n",
        "==============54==============\r"
       ]
      },
      {
       "output_type": "stream",
       "stream": "stdout",
       "text": [
        "Wrote file at msulibraries/3064211.xml\n",
        "==============55==============\r"
       ]
      },
      {
       "output_type": "stream",
       "stream": "stdout",
       "text": [
        "Wrote file at msulibraries/2482915.xml\n",
        "==============56==============\r"
       ]
      },
      {
       "output_type": "stream",
       "stream": "stdout",
       "text": [
        "Wrote file at msulibraries/4295830.xml\n",
        "==============57==============\r"
       ]
      },
      {
       "output_type": "stream",
       "stream": "stdout",
       "text": [
        "Wrote file at msulibraries/6152991.xml\n",
        "==============58==============\r"
       ]
      },
      {
       "output_type": "stream",
       "stream": "stdout",
       "text": [
        "Wrote file at msulibraries/1097955.xml\n",
        "==============59==============\r"
       ]
      },
      {
       "output_type": "stream",
       "stream": "stdout",
       "text": [
        "Wrote file at msulibraries/5420953.xml\n",
        "==============60==============\r"
       ]
      },
      {
       "output_type": "stream",
       "stream": "stdout",
       "text": [
        "Wrote file at msulibraries/3401007.xml\n",
        "==============61==============\r"
       ]
      },
      {
       "output_type": "stream",
       "stream": "stdout",
       "text": [
        "Wrote file at msulibraries/6973890.xml\n",
        "==============62==============\r"
       ]
      },
      {
       "output_type": "stream",
       "stream": "stdout",
       "text": [
        "Wrote file at msulibraries/5377326.xml\n",
        "==============63==============\r"
       ]
      },
      {
       "output_type": "stream",
       "stream": "stdout",
       "text": [
        "Wrote file at msulibraries/2715745.xml\n",
        "==============64==============\r"
       ]
      },
      {
       "output_type": "stream",
       "stream": "stdout",
       "text": [
        "Wrote file at msulibraries/3712189.xml\n",
        "==============65==============\r"
       ]
      },
      {
       "output_type": "stream",
       "stream": "stdout",
       "text": [
        "Wrote file at msulibraries/4296176.xml\n",
        "==============66==============\r"
       ]
      },
      {
       "output_type": "stream",
       "stream": "stdout",
       "text": [
        "Wrote file at msulibraries/5099211.xml\n",
        "==============67==============\r"
       ]
      },
      {
       "output_type": "stream",
       "stream": "stdout",
       "text": [
        "Wrote file at msulibraries/3814646.xml\n",
        "==============68==============\r"
       ]
      },
      {
       "output_type": "stream",
       "stream": "stdout",
       "text": [
        "Wrote file at msulibraries/4122987.xml\n",
        "==============69==============\r"
       ]
      },
      {
       "output_type": "stream",
       "stream": "stdout",
       "text": [
        "Wrote file at msulibraries/3743487.xml\n",
        "==============70==============\r"
       ]
      },
      {
       "output_type": "stream",
       "stream": "stdout",
       "text": [
        "Wrote file at msulibraries/2030101.xml\n",
        "==============71==============\r"
       ]
      },
      {
       "output_type": "stream",
       "stream": "stdout",
       "text": [
        "Wrote file at msulibraries/2030101.xml\n",
        "==============72==============\r"
       ]
      },
      {
       "output_type": "stream",
       "stream": "stdout",
       "text": [
        "Wrote file at msulibraries/7047207.xml\n",
        "==============73==============\r"
       ]
      },
      {
       "output_type": "stream",
       "stream": "stdout",
       "text": [
        "Wrote file at msulibraries/3487748.xml\n",
        "==============74==============\r"
       ]
      },
      {
       "output_type": "stream",
       "stream": "stdout",
       "text": [
        "Wrote file at msulibraries/5780712.xml\n",
        "==============75==============\r"
       ]
      },
      {
       "output_type": "stream",
       "stream": "stdout",
       "text": [
        "Wrote file at msulibraries/2701132.xml\n",
        "==============76==============\r"
       ]
      },
      {
       "output_type": "stream",
       "stream": "stdout",
       "text": [
        "Wrote file at msulibraries/6267877.xml\n",
        "==============77==============\r"
       ]
      },
      {
       "output_type": "stream",
       "stream": "stdout",
       "text": [
        "Wrote file at msulibraries/3908971.xml\n",
        "==============78==============\r"
       ]
      },
      {
       "output_type": "stream",
       "stream": "stdout",
       "text": [
        "Wrote file at msulibraries/3908971.xml\n",
        "==============79==============\r"
       ]
      },
      {
       "output_type": "stream",
       "stream": "stdout",
       "text": [
        "Wrote file at msulibraries/3199064.xml\n",
        "==============80==============\r"
       ]
      },
      {
       "output_type": "stream",
       "stream": "stdout",
       "text": [
        "Wrote file at msulibraries/2643726.xml\n",
        "==============81==============\r"
       ]
      },
      {
       "output_type": "stream",
       "stream": "stdout",
       "text": [
        "Wrote file at msulibraries/6924382.xml\n",
        "==============82==============\r"
       ]
      },
      {
       "output_type": "stream",
       "stream": "stdout",
       "text": [
        "Wrote file at msulibraries/3235735.xml\n",
        "==============83==============\r"
       ]
      },
      {
       "output_type": "stream",
       "stream": "stdout",
       "text": [
        "Wrote file at msulibraries/5446099.xml\n",
        "==============84==============\r"
       ]
      },
      {
       "output_type": "stream",
       "stream": "stdout",
       "text": [
        "Wrote file at msulibraries/2050317.xml\n",
        "==============85==============\r"
       ]
      },
      {
       "output_type": "stream",
       "stream": "stdout",
       "text": [
        "Wrote file at msulibraries/5372282.xml\n",
        "==============86==============\r"
       ]
      },
      {
       "output_type": "stream",
       "stream": "stdout",
       "text": [
        "Wrote file at msulibraries/4756045.xml\n",
        "==============87==============\r"
       ]
      },
      {
       "output_type": "stream",
       "stream": "stdout",
       "text": [
        "Wrote file at msulibraries/2516364.xml\n",
        "==============88==============\r"
       ]
      },
      {
       "output_type": "stream",
       "stream": "stdout",
       "text": [
        "Wrote file at msulibraries/7106809.xml\n",
        "==============89==============\r"
       ]
      },
      {
       "output_type": "stream",
       "stream": "stdout",
       "text": [
        "Wrote file at msulibraries/2238635.xml\n",
        "==============90==============\r"
       ]
      },
      {
       "output_type": "stream",
       "stream": "stdout",
       "text": [
        "Wrote file at msulibraries/2974387.xml\n",
        "==============91==============\r"
       ]
      },
      {
       "output_type": "stream",
       "stream": "stdout",
       "text": [
        "Wrote file at msulibraries/1543549.xml\n",
        "==============92==============\r"
       ]
      },
      {
       "output_type": "stream",
       "stream": "stdout",
       "text": [
        "Wrote file at msulibraries/600547.xml\n",
        "==============93==============\r"
       ]
      },
      {
       "output_type": "stream",
       "stream": "stdout",
       "text": [
        "Wrote file at msulibraries/600547.xml\n",
        "==============94==============\r"
       ]
      },
      {
       "output_type": "stream",
       "stream": "stdout",
       "text": [
        "Wrote file at msulibraries/3454583.xml\n",
        "==============95==============\r"
       ]
      },
      {
       "output_type": "stream",
       "stream": "stdout",
       "text": [
        "Wrote file at msulibraries/3345244.xml\n",
        "==============96==============\r"
       ]
      },
      {
       "output_type": "stream",
       "stream": "stdout",
       "text": [
        "Wrote file at msulibraries/1235217.xml\n",
        "==============97==============\r"
       ]
      },
      {
       "output_type": "stream",
       "stream": "stdout",
       "text": [
        "Wrote file at msulibraries/2502615.xml\n",
        "==============98==============\r"
       ]
      },
      {
       "output_type": "stream",
       "stream": "stdout",
       "text": [
        "Wrote file at msulibraries/3101278.xml\n",
        "==============99==============\r"
       ]
      },
      {
       "output_type": "stream",
       "stream": "stdout",
       "text": [
        "Wrote file at msulibraries/1359906.xml\n",
        "=============100==============\r"
       ]
      },
      {
       "output_type": "stream",
       "stream": "stdout",
       "text": [
        "Wrote file at msulibraries/4612351.xml\n",
        "=============101==============\r"
       ]
      },
      {
       "output_type": "stream",
       "stream": "stdout",
       "text": [
        "Wrote file at msulibraries/2030482.xml\n"
       ]
      }
     ],
     "prompt_number": 1
    }
   ],
   "metadata": {}
  }
 ]
}